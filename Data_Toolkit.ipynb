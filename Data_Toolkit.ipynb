{
  "nbformat": 4,
  "nbformat_minor": 0,
  "metadata": {
    "colab": {
      "provenance": [],
      "collapsed_sections": [],
      "authorship_tag": "ABX9TyPdMfVZQYz0w/xJsTBN9itQ",
      "include_colab_link": true
    },
    "kernelspec": {
      "name": "python3",
      "display_name": "Python 3"
    },
    "language_info": {
      "name": "python"
    }
  },
  "cells": [
    {
      "cell_type": "markdown",
      "metadata": {
        "id": "view-in-github",
        "colab_type": "text"
      },
      "source": [
        "<a href=\"https://colab.research.google.com/github/Namrata3103-star/Key-Projects/blob/main/Data_Toolkit.ipynb\" target=\"_parent\"><img src=\"https://colab.research.google.com/assets/colab-badge.svg\" alt=\"Open In Colab\"/></a>"
      ]
    },
    {
      "cell_type": "code",
      "source": [
        "in_string=input()\n",
        "\n",
        "#here extract the two numbers from the string\n",
        "L=in_string.split(',')\n",
        "print(\"x before swapping:\",int(L[0]))\n",
        "print(\"y before swapping:\",int(L[1]))\n",
        "newL=[]\n",
        "newL.append(L[1])\n",
        "newL.append(L[0])\n",
        "print()\n",
        "print(\"x after swapping:\",int(newL[0]))\n",
        "print(\"y after swapping:\",int(newL[1]))\n"
      ],
      "metadata": {
        "id": "VwmX0mY0MkGm",
        "colab": {
          "base_uri": "https://localhost:8080/"
        },
        "outputId": "69aef7ba-fd4f-4e99-c539-527221c25357"
      },
      "execution_count": null,
      "outputs": [
        {
          "output_type": "stream",
          "name": "stdout",
          "text": [
            "20,50\n",
            "x before swapping: 20\n",
            "y before swapping: 50\n",
            "\n",
            "x after swapping: 50\n",
            "y after swapping: 20\n"
          ]
        }
      ]
    },
    {
      "cell_type": "code",
      "source": [
        "k=int(input())\n",
        "if k%3==0:\n",
        "    print(\"Sexy\")\n",
        "elif k%3==1:\n",
        "    print(\"Beautiful\")\n",
        "elif k%3==2:\n",
        "    print(\"Pretty\")\n",
        "\n"
      ],
      "metadata": {
        "id": "WfN5CkjHpN_E",
        "colab": {
          "base_uri": "https://localhost:8080/"
        },
        "outputId": "1de1fa2c-b807-4b6f-c984-9ac0c3e7350a"
      },
      "execution_count": null,
      "outputs": [
        {
          "output_type": "stream",
          "name": "stdout",
          "text": [
            "21\n",
            "Sexy\n"
          ]
        }
      ]
    },
    {
      "cell_type": "code",
      "source": [
        "import ast\n",
        "input_str = input()\n",
        "\n",
        "input_list = ast.literal_eval(input_str)\n",
        "\n",
        "#the data or the two values in list is now changed to separate variables\n",
        "day_of_the_week = input_list[0] #first element is an integer denoting the day of the week\n",
        "is_on_vacation = input_list[1] #this is a boolean denoting if its vacation or not\n",
        "L1=[6,7]\n",
        "L2=[1,2,3,4,5]\n",
        "# write your code here\n",
        "if day_of_the_week in L1 and is_on_vacation==True:\n",
        "    print(\"off\")\n",
        "elif day_of_the_week in L2 and is_on_vacation==True:\n",
        "    print(\"10:00\")\n",
        "elif day_of_the_week in L1 and is_on_vacation==False:\n",
        "    print(\"10:00\")\n",
        "elif day_of_the_week in L2 and is_on_vacation==False:\n",
        "    print(\"7:00\")"
      ],
      "metadata": {
        "colab": {
          "base_uri": "https://localhost:8080/"
        },
        "id": "WsM7P4-1WT33",
        "outputId": "89042f0a-95b9-4d90-d644-bba490ef8379"
      },
      "execution_count": null,
      "outputs": [
        {
          "output_type": "stream",
          "name": "stdout",
          "text": [
            "[7, True]\n",
            "off\n"
          ]
        }
      ]
    },
    {
      "cell_type": "code",
      "source": [
        "#take the input here\n",
        "number=int(input())\n",
        "\n",
        "\n",
        "def factorial(n):\n",
        "  if n<0:\n",
        "    return -1\n",
        "  elif n==0:\n",
        "    return 1\n",
        "  else:\n",
        "    fact=1\n",
        "    for i in range(1,n+1):\n",
        "      fact=fact*i\n",
        "    return fact\n",
        "    \n",
        "k=factorial(number)\n",
        "print(k)\n",
        "\n"
      ],
      "metadata": {
        "colab": {
          "base_uri": "https://localhost:8080/"
        },
        "id": "5Fa_3s3ge-F-",
        "outputId": "c2ef8762-63b4-4033-8997-a7177bc8b687"
      },
      "execution_count": null,
      "outputs": [
        {
          "output_type": "stream",
          "name": "stdout",
          "text": [
            "0\n",
            "1\n"
          ]
        }
      ]
    },
    {
      "cell_type": "code",
      "source": [
        "n=int(input())\n",
        "r=0\n",
        "#write code to reverse the number here\n",
        "while(n>0):\n",
        "    r=(r*10)+(n%10)\n",
        "    n=n//10\n",
        "print(r)"
      ],
      "metadata": {
        "id": "jVVf5lP0nWVd",
        "colab": {
          "base_uri": "https://localhost:8080/"
        },
        "outputId": "2eab2768-423d-47f5-e1c9-506f2622247b"
      },
      "execution_count": null,
      "outputs": [
        {
          "output_type": "stream",
          "name": "stdout",
          "text": [
            "6752343\n",
            "3432576\n"
          ]
        }
      ]
    },
    {
      "cell_type": "code",
      "source": [
        "#chocolate problem\n",
        "mystring=input()\n",
        "mylist=mystring.split(',')\n",
        "m=int(mylist[0])\n",
        "c=int(mylist[1])\n",
        "choc=m//c\n",
        "w=m//c\n",
        "while(w>=3):\n",
        "    choc=choc+w//3\n",
        "    w=(w//3)+(w%3)\n",
        "print(choc)"
      ],
      "metadata": {
        "colab": {
          "base_uri": "https://localhost:8080/"
        },
        "id": "wfI402S0LkM7",
        "outputId": "d22ce8b0-5cec-4eca-bd9a-d90b9de37932"
      },
      "execution_count": null,
      "outputs": [
        {
          "output_type": "stream",
          "name": "stdout",
          "text": [
            "15,2\n",
            "10\n"
          ]
        }
      ]
    },
    {
      "cell_type": "code",
      "source": [
        "n=int(input())\n",
        "for i in range(1,n+1):\n",
        "  for j in range(n-i):\n",
        "    print(\" \",end=\"\")\n",
        "  for k in range (i-1):\n",
        "    print(\"*_\",end=\"\")\n",
        "  print(\"*\")"
      ],
      "metadata": {
        "colab": {
          "base_uri": "https://localhost:8080/"
        },
        "id": "sUyuehP0gyqW",
        "outputId": "2ca13847-0011-4f09-bc36-4d2a99446b36"
      },
      "execution_count": null,
      "outputs": [
        {
          "output_type": "stream",
          "name": "stdout",
          "text": [
            "5\n",
            "    *\n",
            "   *_*\n",
            "  *_*_*\n",
            " *_*_*_*\n",
            "*_*_*_*_*\n"
          ]
        }
      ]
    },
    {
      "cell_type": "code",
      "source": [
        "import ast\n",
        "input_str = input()\n",
        "input_list = ast.literal_eval(input_str)\n",
        "m=input_list[0]\n",
        "for i in input_list:\n",
        "  if i<m:\n",
        "    m=i\n",
        "print(m)"
      ],
      "metadata": {
        "id": "0JZ2wIdbCjMX",
        "colab": {
          "base_uri": "https://localhost:8080/"
        },
        "outputId": "00393af9-75ab-4007-e21b-2f42243d4fb3"
      },
      "execution_count": null,
      "outputs": [
        {
          "output_type": "stream",
          "name": "stdout",
          "text": [
            "[2, -3, 0, 7, 21]\n",
            "-3\n"
          ]
        }
      ]
    },
    {
      "cell_type": "code",
      "source": [
        "from functools import reduce\n",
        "import ast\n",
        "input_str = input()\n",
        "input_list = ast.literal_eval(input_str)\n",
        "\n",
        "#Remember how we took input in the Alarm clock Question in previous Session?\n",
        "#Lets see if you can finish taking input on your own\n",
        "\n",
        "data=input_list[0]\n",
        "check=input_list[1]\n",
        "\n",
        "#start writing your code to find if check is above average of data \n",
        "q=sum(data)/len(data)\n",
        "if check>q:\n",
        "    print(\"True\")\n",
        "else:\n",
        "    print(\"False\")"
      ],
      "metadata": {
        "colab": {
          "base_uri": "https://localhost:8080/"
        },
        "id": "FDGTtqUVezrB",
        "outputId": "676f8b21-7096-465e-be8b-19c954475fb7"
      },
      "execution_count": null,
      "outputs": [
        {
          "output_type": "stream",
          "name": "stdout",
          "text": [
            "[ [2,4,6,8,10],  4]\n",
            "False\n"
          ]
        }
      ]
    },
    {
      "cell_type": "code",
      "source": [
        "import ast \n",
        "input_str1=input()\n",
        "input_str2=input()\n",
        "team=ast.literal_eval(input_str1)\n",
        "applicant=ast.literal_eval(input_str2)\n",
        "\n",
        "#write your code here\n",
        "\n",
        "for i in applicant:\n",
        "  average_team=sum(team)/len(team)\n",
        "  if i>average_team:\n",
        "    team.append(i)\n",
        "      \n",
        "print(team)\n",
        "\n",
        "\n"
      ],
      "metadata": {
        "colab": {
          "base_uri": "https://localhost:8080/"
        },
        "id": "qL2B634o7HW9",
        "outputId": "0d4c8e52-74b6-48f7-ef91-f21a4facf880"
      },
      "execution_count": null,
      "outputs": [
        {
          "output_type": "stream",
          "name": "stdout",
          "text": [
            "[10,20,30,40,50]\n",
            "[30,60,80,40]\n",
            "[10, 20, 30, 40, 50, 60, 80]\n"
          ]
        }
      ]
    },
    {
      "cell_type": "code",
      "source": [
        "import ast\n",
        "input_str1 = input()\n",
        "input_list1 = ast.literal_eval(input_str1)\n",
        "events = input_list1\n",
        "wedding = int(input())\n",
        "\n",
        "\n",
        "#start writing from here\n",
        "count=0\n",
        "for i in input_list1:\n",
        "    if wedding in range(i[0],i[1]+1):\n",
        "        count=count+1\n",
        "print(count)"
      ],
      "metadata": {
        "colab": {
          "base_uri": "https://localhost:8080/"
        },
        "id": "dT7pTTZs8V9E",
        "outputId": "873e227b-d3fa-409e-f485-1c07387b802b"
      },
      "execution_count": null,
      "outputs": [
        {
          "output_type": "stream",
          "name": "stdout",
          "text": [
            "[ [29,31], [23,26], [24,25] ]\n",
            "24\n",
            "2\n"
          ]
        }
      ]
    },
    {
      "cell_type": "code",
      "source": [
        "import ast \n",
        "input_list=ast.literal_eval(input())\n",
        "m=input_list[0]\n",
        "n=input_list[1]\n",
        "#start writing code here\n",
        "final=[0]*n\n",
        "final=[list(final) for i in range(m)]\n",
        "for i in range(m):\n",
        "    for j in range(n):\n",
        "        if i==0 or j==0 or i==m-1 or j==n-1:\n",
        "            final[i][j]=1 \n",
        "for i in final:\n",
        "    print(i)"
      ],
      "metadata": {
        "colab": {
          "base_uri": "https://localhost:8080/"
        },
        "id": "go-tTynDeYz_",
        "outputId": "caac5a0b-3c77-41d9-fb84-a9a36cb56607"
      },
      "execution_count": null,
      "outputs": [
        {
          "output_type": "stream",
          "name": "stdout",
          "text": [
            "4,5\n",
            "[1, 1, 1, 1, 1]\n",
            "[1, 0, 0, 0, 1]\n",
            "[1, 0, 0, 0, 1]\n",
            "[1, 1, 1, 1, 1]\n"
          ]
        }
      ]
    },
    {
      "cell_type": "code",
      "source": [
        "import numpy as np\n",
        "import ast \n",
        "input_list=ast.literal_eval(input())\n",
        "m=input_list[0]\n",
        "n=input_list[1]\n",
        "new=np.ones([m,n],dtype=int)\n",
        "new[1:-1,1:-1]=0\n",
        "for i in final:\n",
        "    print(i)"
      ],
      "metadata": {
        "colab": {
          "base_uri": "https://localhost:8080/"
        },
        "id": "r9voIuaSr-S8",
        "outputId": "96262413-256e-4a5b-a206-94973b6b1f44"
      },
      "execution_count": null,
      "outputs": [
        {
          "output_type": "stream",
          "name": "stdout",
          "text": [
            "4,5\n",
            "[1, 1, 1, 1, 1]\n",
            "[1, 0, 0, 0, 1]\n",
            "[1, 0, 0, 0, 1]\n",
            "[1, 1, 1, 1, 1]\n"
          ]
        }
      ]
    },
    {
      "cell_type": "code",
      "source": [
        "s = input()\n",
        "new_s=s.lower()\n",
        "#check for palindrome here\n",
        "r=new_s[::-1]\n",
        "if r==new_s:\n",
        "    print(\"1\")\n",
        "else:\n",
        "    print(\"0\")"
      ],
      "metadata": {
        "id": "Mn795ZZN7rtf",
        "colab": {
          "base_uri": "https://localhost:8080/"
        },
        "outputId": "756ed784-4ca7-40b4-c6ec-e139db5196b0"
      },
      "execution_count": null,
      "outputs": [
        {
          "output_type": "stream",
          "name": "stdout",
          "text": [
            "Rebecca\n",
            "0\n"
          ]
        }
      ]
    },
    {
      "cell_type": "code",
      "source": [
        "sentence=input()\n",
        "L=sentence.split()\n",
        "new_L=L[::-1]\n",
        "new_s=\" \".join(new_L)\n",
        "new_s"
      ],
      "metadata": {
        "id": "fJ8WL7nv22iD",
        "colab": {
          "base_uri": "https://localhost:8080/",
          "height": 53
        },
        "outputId": "4ab60443-971d-491b-a68e-b0a7d2147d09"
      },
      "execution_count": null,
      "outputs": [
        {
          "name": "stdout",
          "output_type": "stream",
          "text": [
            "python is super easy and fun\n"
          ]
        },
        {
          "output_type": "execute_result",
          "data": {
            "text/plain": [
              "'fun and easy super is python'"
            ],
            "application/vnd.google.colaboratory.intrinsic+json": {
              "type": "string"
            }
          },
          "metadata": {},
          "execution_count": 15
        }
      ]
    },
    {
      "cell_type": "code",
      "source": [
        "s=input()\n",
        "L=s.split()\n",
        "L=[i.capitalize() for i in L]\n",
        "new_L=\"_\".join(L)\n",
        "new_L"
      ],
      "metadata": {
        "colab": {
          "base_uri": "https://localhost:8080/",
          "height": 53
        },
        "id": "Rh3nVQhc7uv5",
        "outputId": "30d5ec6c-a774-45fc-826b-7774e80fbf40"
      },
      "execution_count": null,
      "outputs": [
        {
          "name": "stdout",
          "output_type": "stream",
          "text": [
            "data science\n"
          ]
        },
        {
          "output_type": "execute_result",
          "data": {
            "text/plain": [
              "'Data_Science'"
            ],
            "application/vnd.google.colaboratory.intrinsic+json": {
              "type": "string"
            }
          },
          "metadata": {},
          "execution_count": 30
        }
      ]
    },
    {
      "cell_type": "code",
      "source": [
        "s=input()\n",
        "L=list(s)\n",
        "new_L1=[]\n",
        "new_L2=[]\n",
        "for i in L:\n",
        "  if i in 'aeiouAEIOU':\n",
        "    new_L1.append(i)\n",
        "final1=''.join(new_L1)\n",
        "for i in L:\n",
        "  if i not in 'aeiouAEIOU':\n",
        "    new_L2.append(i)\n",
        "final2=''.join(new_L2)\n",
        "outcome=final1+final2\n",
        "print(outcome)"
      ],
      "metadata": {
        "colab": {
          "base_uri": "https://localhost:8080/"
        },
        "id": "cPXLXsX5Cl_j",
        "outputId": "a9b6133f-3014-4d14-cbb4-d4e3c7db8140"
      },
      "execution_count": null,
      "outputs": [
        {
          "output_type": "stream",
          "name": "stdout",
          "text": [
            "programming\n",
            "oaiprgrmmng\n"
          ]
        }
      ]
    },
    {
      "cell_type": "code",
      "source": [
        "string1=input()\n",
        "string2=input()\n",
        "L1=list(string1.lower())\n",
        "L2=list(string2.lower())\n",
        "new_L=[]\n",
        "for i,j in zip(L1,L2):\n",
        "  if i==j:\n",
        "    new_L.append(i)\n",
        "  else:\n",
        "    break\n",
        "final=''.join(new_L)\n",
        "print(final)"
      ],
      "metadata": {
        "colab": {
          "base_uri": "https://localhost:8080/"
        },
        "id": "jxsZjqaiE39b",
        "outputId": "c536497d-c430-4b6a-efe9-0023019c48c0"
      },
      "execution_count": null,
      "outputs": [
        {
          "output_type": "stream",
          "name": "stdout",
          "text": [
            "upgradData\n",
            "upGradScience\n",
            "upgrad\n"
          ]
        }
      ]
    },
    {
      "cell_type": "code",
      "source": [
        "#Anagram-Option1\n",
        "s1=input()\n",
        "s2=input()\n",
        "if len(s1)==len(s2) and sorted(s1)==sorted(s2):\n",
        "  print(\"True\")\n",
        "else:\n",
        "  print(\"False\")"
      ],
      "metadata": {
        "colab": {
          "base_uri": "https://localhost:8080/"
        },
        "id": "yw-j8CfY226a",
        "outputId": "3f299783-a3e8-43cf-c26f-1508f78158a4"
      },
      "execution_count": null,
      "outputs": [
        {
          "output_type": "stream",
          "name": "stdout",
          "text": [
            "SENATOR\n",
            "treason\n",
            "False\n"
          ]
        }
      ]
    },
    {
      "cell_type": "code",
      "source": [
        "#Anagram-Option2\n",
        "s1=input()\n",
        "s2=input()\n",
        "for i in s1:\n",
        "  if len(s1)!=len(s2) or i not in s2:\n",
        "    output=\"False\"\n",
        "    break\n",
        "  else:\n",
        "    output=\"True\"\n",
        "print(output)"
      ],
      "metadata": {
        "id": "zPota3dsRIzM",
        "colab": {
          "base_uri": "https://localhost:8080/"
        },
        "outputId": "94887d4c-b392-4bff-d017-4ed736ba8090"
      },
      "execution_count": null,
      "outputs": [
        {
          "output_type": "stream",
          "name": "stdout",
          "text": [
            "thing\n",
            "night\n",
            "True\n"
          ]
        }
      ]
    },
    {
      "cell_type": "code",
      "source": [
        "import ast\n",
        "L=ast.literal_eval(input())\n",
        "new_L=[]\n",
        "for i in L:\n",
        "  if i not in new_L:\n",
        "    new_L.append(i)\n",
        "print(new_L)  \n"
      ],
      "metadata": {
        "colab": {
          "base_uri": "https://localhost:8080/"
        },
        "id": "l6NPiHOFnH2W",
        "outputId": "cc27ac15-bc45-4e38-bff0-d783999b6811"
      },
      "execution_count": null,
      "outputs": [
        {
          "output_type": "stream",
          "name": "stdout",
          "text": [
            "[8, 9, 2, 2, 3, 4, 5, 2]\n",
            "[8, 9, 2, 3, 4, 5]\n"
          ]
        }
      ]
    },
    {
      "cell_type": "code",
      "source": [
        "import ast\n",
        "input_str = input()\n",
        "#input dictionary has been received in input_dict\n",
        "input_dict = ast.literal_eval(input_str)\n",
        "L1=list(input_dict.keys())\n",
        "L2=list(input_dict.values())\n",
        "L3=[]\n",
        "for i,j in zip(L1,L2):\n",
        "  for k in j:\n",
        "    L3.append(i+\"_\"+k)\n",
        "print(L3)"
      ],
      "metadata": {
        "colab": {
          "base_uri": "https://localhost:8080/"
        },
        "id": "u--HFaO9qsag",
        "outputId": "d18a5306-6d33-445a-b22b-283d0ddb4433"
      },
      "execution_count": null,
      "outputs": [
        {
          "output_type": "stream",
          "name": "stdout",
          "text": [
            "{ 'Pen': ['Gel', 'Ink', 'ball'], 'Mobile': ['Android', 'apple'] }\n",
            "['Pen_Gel', 'Pen_Ink', 'Pen_ball', 'Mobile_Android', 'Mobile_apple']\n"
          ]
        }
      ]
    },
    {
      "cell_type": "code",
      "source": [
        "s=input()\n",
        "L1=list(s)\n",
        "L2=[]\n",
        "L3=[]\n",
        "for i in L1:\n",
        "  if i not in L2:\n",
        "    L2.append(i)\n",
        "d={i:L1.count(i) for i in L1}\n",
        "for i in d:\n",
        "  L3.append(d[i])\n",
        "final_list=sorted(L3)\n",
        "if final_list==list(range(min(final_list),max(final_list)+1)) and final_list[0]==1:\n",
        "  print(\"True\")\n",
        "else:\n",
        "  print(\"False\")"
      ],
      "metadata": {
        "colab": {
          "base_uri": "https://localhost:8080/"
        },
        "id": "YC4caN3-4xIs",
        "outputId": "e33f4da0-a212-4c4e-f24d-931e9aa2d66b"
      },
      "execution_count": null,
      "outputs": [
        {
          "output_type": "stream",
          "name": "stdout",
          "text": [
            "$yrr$ssrsr\n",
            "True\n"
          ]
        }
      ]
    },
    {
      "cell_type": "code",
      "source": [
        "#Balanced Brackets\n",
        "inp=input()\n",
        "stack=[]\n",
        "for i in inp:\n",
        "  if len(stack)==0:\n",
        "    stack.append(i)\n",
        "  else:\n",
        "    if i==')' and stack[-1]=='(':\n",
        "      stack.pop()\n",
        "    elif i=='}' and stack[-1]=='{':\n",
        "      stack.pop()\n",
        "    elif i==']' and stack[-1]=='[':\n",
        "      stack.pop()\n",
        "    else:\n",
        "      stack.append(i)\n",
        "if len(stack)==0:\n",
        "  print(\"Yes\")\n",
        "else:\n",
        "  print(\"No\")\n"
      ],
      "metadata": {
        "colab": {
          "base_uri": "https://localhost:8080/"
        },
        "id": "8WZ372Gh9g5b",
        "outputId": "b30a977d-6ced-4a20-bea1-79f13ea53efa"
      },
      "execution_count": null,
      "outputs": [
        {
          "output_type": "stream",
          "name": "stdout",
          "text": [
            "[](){[]()(){}}\n",
            "Yes\n"
          ]
        }
      ]
    },
    {
      "cell_type": "code",
      "source": [
        "num = int(input())\n",
        "for i in range(1,num+1):\n",
        "  for j in range(i,num+1):\n",
        "    print(\" \",end = '')\n",
        "  for k in range(1,i):\n",
        "    print(\"*\",end = '')\n",
        "\n",
        "  print()\n",
        "\n",
        "for i in range(1,num+1):\n",
        "  for j in range(1,i):\n",
        "    print(\" \",end='')\n",
        "  for k in range(i,num+1):\n",
        "    print(\"*\",end='')\n",
        "  print()"
      ],
      "metadata": {
        "colab": {
          "base_uri": "https://localhost:8080/"
        },
        "id": "L1ik-fq4p_MQ",
        "outputId": "c84da0c6-5a0e-4a30-8907-dd3134b51082"
      },
      "execution_count": null,
      "outputs": [
        {
          "output_type": "stream",
          "name": "stdout",
          "text": [
            "5\n",
            "     \n",
            "    *\n",
            "   **\n",
            "  ***\n",
            " ****\n",
            "*****\n",
            " ****\n",
            "  ***\n",
            "   **\n",
            "    *\n"
          ]
        }
      ]
    },
    {
      "cell_type": "code",
      "source": [
        "#Reverse the number\n",
        "n=int(input())\n",
        "L=list(str(n))\n",
        "new_L=L[::-1]\n",
        "final=int(\"\".join(new_L))\n",
        "final"
      ],
      "metadata": {
        "colab": {
          "base_uri": "https://localhost:8080/"
        },
        "id": "tz2IB-mJ8LbY",
        "outputId": "ebe998b1-0a7b-4b88-8915-3559b78be814"
      },
      "execution_count": null,
      "outputs": [
        {
          "name": "stdout",
          "output_type": "stream",
          "text": [
            "3452785\n"
          ]
        },
        {
          "output_type": "execute_result",
          "data": {
            "text/plain": [
              "5872543"
            ]
          },
          "metadata": {},
          "execution_count": 14
        }
      ]
    },
    {
      "cell_type": "code",
      "source": [
        "netflix = {'The Debt Collector': 1821195, 'Act of Vengeance': 2804479, 'Paradise Lost': 2195477, \"Gerald's Game\": 3650626, 'Long Shot': 638440, 'Mak Cun': 1010311, 'Our Souls at Night': 3028705, 'Out of Thin Air': 2681938, \"Paul Hollywood's Big Continental Road Trip\": 230689, 'Satu Hari': 1012350, 'Monster High: Boo York, Boo York': 1526025, 'Cultivating the Seas: History and Future of the Full-Cycle Cultured Kindai Tuna': 2762103, 'Domino': 872663, 'TUNA GIRL': 2574816, '5CM': 2647713, 'Animal World': 220789, 'Hold the Dark': 2307432, 'Lessons from a School Shooting: Notes from Dunblane': 2419534, 'Made in Mexico': 3653712, 'Single': 239278, 'The 3rd Eye': 196138, 'The Sinking Of Van Der Wijck': 2831856, 'Two Catalonias': 1337119, 'Bobby Sands: 66 Days': 2005623, 'Bard of Blood': 744998, 'Deliha 2': 3638900, 'Dragons: Rescue Riders': 3241239, 'In the Shadow of the Moon': 1213329, 'Skylines': 1840094, 'Sturgill Simpson Presents Sound & Fury': 1915540, 'The Politician': 1019394, 'Weeds on Fire': 2273090, 'Much Loved': 3039852, 'Joseph: King of Dreams': 1734449, 'Malaal': 1926128, 'The Grandmaster': 2549410, 'The Inmate': 130965, 'The Hurricane Heist': 2191538, 'Def Comedy Jam 25': 1392697, 'Restless Creature: Wendy Whelan': 2474412, 'Print the Legend': 548250, 'Birders': 3478883, 'Furie': 2755115, 'Leap!': 1401638, 'Oh! Baby (Malayalam)': 839139, 'Oh! Baby (Tamil)': 2691505, 'USS Indianapolis: Men of Courage': 3286014, 'A Wrinkle in Time': 1258861, 'Teach Us All': 2428947, 'White Island': 1152905, 'Inside Man: Most Wanted': 2812661, 'Jeff Dunham: Beside Himself': 2930368, 'China Salesman': 3377292, 'Swearnet: The Movie': 949689, 'The Bar': 620655, 'Manmadhudu 2': 1842761, 'Team Kaylie': 359856, 'Under the Eiffel Tower': 2298237, 'Audrie & Daisy': 1573055, 'Iliza Shlesinger: Confirmed Kills': 365220, 'BONDING': 1664242, 'Do Paise Ki Dhoop Chaar Aane Ki Baarish': 2770879, '20 Feet From Stardom': 2931730, 'In Darkness': 3248749, 'Gaga: Five Foot Two': 3719550, 'The Bad Batch': 3656264, 'SMOSH: The Movie': 3697506, 'King of Boys': 584112, 'Merry Men: The Real Yoruba Demons': 2035595, \"Sarah's Key\": 1337902, 'The Wedding Party 2: Destination Dubai': 1471204, 'Vagabond': 1600432, 'Battlefish': 723021, 'DRAGON PILOT: Hisone & Masotan': 602919, 'Hilda': 54948, 'Maniac': 1348196, 'Quincy': 2601704, 'Rafinha Bastos: Ultimatum': 3469996, 'The Good Cop': 2265521, 'Between Two Ferns: The Movie': 3146508, 'Criminal: France': 2021409, 'Criminal: Germany': 658824, 'Criminal: Spain': 3078634, 'Criminal: UK': 2721398, 'Daddy Issues': 2119035, \"Inside Bill's Brain: Decoding Bill Gates\": 1755104, 'The Hockey Girls': 2000507, 'Travel Mates 2': 707260, 'True: Tricky Treat Day': 3213199, 'Two Sentence Horror Stories': 2438329, 'Mad World': 2281773, 'Mobile Suit Gundam UC': 778879, 'The Bund': 1729892, 'The First Line': 674591, 'Maynard': 84986, 'Monkey Twins': 3277179, 'Bitcoin Heist': 1450158, 'I Am Not Madame Bovary': 2763830, 'Vincent N Roxxy': 1961810, \"Chef's Table: France\": 2065738}\n",
        "netflix_last_week = {'The Debt Collector': 229218, 'Act of Vengeance': 191468, 'Paradise Lost': 167846, \"Gerald's Game\": 113298, 'Long Shot': 15190, 'Mak Cun': 244581, 'Our Souls at Night': 188095, 'Out of Thin Air': 183961, \"Paul Hollywood's Big Continental Road Trip\": 207967, 'Satu Hari': 226211, 'Monster High: Boo York, Boo York': 265919, 'Cultivating the Seas: History and Future of the Full-Cycle Cultured Kindai Tuna': 192246, 'Domino': 190538, 'TUNA GIRL': 301819, '5CM': 154371, 'Animal World': 228227, 'Hold the Dark': 222938, 'Lessons from a School Shooting: Notes from Dunblane': 256580, 'Made in Mexico': 199790, 'Single': 155517, 'The 3rd Eye': 251349, 'The Sinking Of Van Der Wijck': 153797, 'Two Catalonias': 189422, 'Bobby Sands: 66 Days': 202461, 'Bard of Blood': 241928, 'Deliha 2': 304552, 'Dragons: Rescue Riders': 155149, 'In the Shadow of the Moon': 222999, 'Skylines': 118737, 'Sturgill Simpson Presents Sound & Fury': 43590, 'The Politician': 11902, 'Weeds on Fire': 243382, 'Much Loved': 190123, 'Joseph: King of Dreams': 46104, 'Malaal': 70961, 'The Grandmaster': 44908, 'The Inmate': 19574, 'The Hurricane Heist': 167696, 'Def Comedy Jam 25': 208075, 'Restless Creature: Wendy Whelan': 22976, 'Print the Legend': 161584, 'Birders': 257668, 'Furie': 282266, 'Leap!': 124338, 'Oh! Baby (Malayalam)': 18203, 'Oh! Baby (Tamil)': 131481, 'USS Indianapolis: Men of Courage': 76558, 'A Wrinkle in Time': 169365, 'Teach Us All': 50378, 'White Island': 299779, 'Inside Man: Most Wanted': 123346, 'Jeff Dunham: Beside Himself': 283561, 'China Salesman': 182041, 'Swearnet: The Movie': 63809, 'The Bar': 41243, 'Manmadhudu 2': 261349, 'Team Kaylie': 101283, 'Under the Eiffel Tower': 83650, 'Audrie & Daisy': 106092, 'Iliza Shlesinger: Confirmed Kills': 255103, 'BONDING': 202683, 'Do Paise Ki Dhoop Chaar Aane Ki Baarish': 32329, '20 Feet From Stardom': 165178, 'In Darkness': 95259, 'Gaga: Five Foot Two': 36638, 'The Bad Batch': 197820, 'SMOSH: The Movie': 196519, 'King of Boys': 49332, 'Merry Men: The Real Yoruba Demons': 293229, \"Sarah's Key\": 178523, 'The Wedding Party 2: Destination Dubai': 51211, 'Vagabond': 116831, 'Battlefish': 5448, 'DRAGON PILOT: Hisone & Masotan': 281873, 'Hilda': 21348, 'Maniac': 268187, 'Quincy': 139696, 'Rafinha Bastos: Ultimatum': 105449, 'The Good Cop': 73230, 'Between Two Ferns: The Movie': 135600, 'Criminal: France': 243469, 'Criminal: Germany': 285211, 'Criminal: Spain': 45184, 'Criminal: UK': 117056, 'Daddy Issues': 267329, \"Inside Bill's Brain: Decoding Bill Gates\": 64083, 'The Hockey Girls': 114146, 'Travel Mates 2': 21088, 'True: Tricky Treat Day': 116504, 'Two Sentence Horror Stories': 274471, 'Mad World': 225244, 'Mobile Suit Gundam UC': 47306, 'The Bund': 146872, 'The First Line': 148861, 'Maynard': 87252, 'Monkey Twins': 199274, 'Bitcoin Heist': 41105, 'I Am Not Madame Bovary': 57841, 'Vincent N Roxxy': 207453, \"Chef's Table: France\": 200536}\n",
        "for i in netflix:\n",
        "  if i in netflix_last_week:\n",
        "    netflix[i]=netflix[i]+netflix_last_week[i]\n",
        "r=max(netflix,key=lambda x:netflix[x])\n",
        "final=netflix['Deliha 2']\n",
        "final\n",
        "\n"
      ],
      "metadata": {
        "colab": {
          "base_uri": "https://localhost:8080/"
        },
        "id": "U4j_WrJiwhEx",
        "outputId": "019a61af-5b4f-4d41-9523-de07185c7656"
      },
      "execution_count": null,
      "outputs": [
        {
          "output_type": "execute_result",
          "data": {
            "text/plain": [
              "3943452"
            ]
          },
          "metadata": {},
          "execution_count": 39
        }
      ]
    },
    {
      "cell_type": "code",
      "source": [
        "num = int(input())\n",
        "for i in range(1,num+1):\n",
        "  for j in range(i,num+1):\n",
        "    print(\" \",end = '')\n",
        "  for k in range(0,i):\n",
        "    print(\"* \",end = '')\n",
        "\n",
        "  print()\n",
        "\n",
        "for i in range(num-1,0,-1):\n",
        "  for j in range(i,num+1):\n",
        "    print(\" \",end = '')\n",
        "  for k in range(0,i):\n",
        "    print(\"* \",end = '')\n",
        "  print()"
      ],
      "metadata": {
        "id": "uDIFUIld12KA",
        "colab": {
          "base_uri": "https://localhost:8080/"
        },
        "outputId": "45f4ee36-aa9d-434f-dc67-2135d549e139"
      },
      "execution_count": null,
      "outputs": [
        {
          "output_type": "stream",
          "name": "stdout",
          "text": [
            "5\n",
            "     * \n",
            "    * * \n",
            "   * * * \n",
            "  * * * * \n",
            " * * * * * \n",
            "  * * * * \n",
            "   * * * \n",
            "    * * \n",
            "     * \n"
          ]
        }
      ]
    },
    {
      "cell_type": "code",
      "source": [
        "n = int(input())\n",
        "# Write your code below\n",
        "alphabet = 96+n\n",
        "\n",
        "for i in range(1, n + 1):\n",
        "    for j in range(i,n):\n",
        "      print(\"--\",end = '')\n",
        "    for k in range(0,i):\n",
        "        if i!=1:\n",
        "          print('%c-' %(alphabet - k), end = '')\n",
        "        elif i==1:\n",
        "         print('%c' %(alphabet - k), end = '')\n",
        "    for l in range(i-2,-1,-1):\n",
        "      if l!=0:\n",
        "        print('%c-' %(alphabet-l), end = '')\n",
        "      elif l==0:\n",
        "        print('%c' %(alphabet-l), end = '')\n",
        "    for m in range(i,n):\n",
        "      print(\"--\",end='')\n",
        "    print()\n",
        "\n",
        "for i in range(n - 1, 0, -1):\n",
        "    for j in range(i,n):\n",
        "        print(\"--\",end = '')\n",
        "    for k in range(0,i):\n",
        "      if i!=1:\n",
        "        print('%c-' %(alphabet - k), end = '')\n",
        "      elif i==1:\n",
        "        print('%c' %(alphabet - k), end = '')\n",
        "    for l in range(i-2,-1,-1):\n",
        "        if l!=0:\n",
        "          print('%c-' %(alphabet-l), end = '')\n",
        "        elif l==0:\n",
        "          print('%c' %(alphabet), end = '')\n",
        "   \n",
        "    for m in range(i,n):\n",
        "      print(\"--\",end='')\n",
        "    print()"
      ],
      "metadata": {
        "id": "GucCzrUM__lK",
        "colab": {
          "base_uri": "https://localhost:8080/"
        },
        "outputId": "982a1aed-14c6-4fde-83c2-fac7a09f1892"
      },
      "execution_count": null,
      "outputs": [
        {
          "output_type": "stream",
          "name": "stdout",
          "text": [
            "5\n",
            "--------e--------\n",
            "------e-d-e------\n",
            "----e-d-c-d-e----\n",
            "--e-d-c-b-c-d-e--\n",
            "e-d-c-b-a-b-c-d-e\n",
            "--e-d-c-b-c-d-e--\n",
            "----e-d-c-d-e----\n",
            "------e-d-e------\n",
            "--------e--------\n"
          ]
        }
      ]
    },
    {
      "cell_type": "code",
      "source": [
        "n=int(input())\n",
        "import numpy as np\n",
        "array1=np.zeros((n,n),dtype=int)\n",
        "array1[(n-1)//2,:]=1\n",
        "array1[:,(n-1)//2]=1\n",
        "print(array1)"
      ],
      "metadata": {
        "id": "STtEAWTN9FFp",
        "colab": {
          "base_uri": "https://localhost:8080/"
        },
        "outputId": "b542553c-83f3-4868-ed7b-733dd7f40280"
      },
      "execution_count": null,
      "outputs": [
        {
          "output_type": "stream",
          "name": "stdout",
          "text": [
            "5\n",
            "[[0 0 1 0 0]\n",
            " [0 0 1 0 0]\n",
            " [1 1 1 1 1]\n",
            " [0 0 1 0 0]\n",
            " [0 0 1 0 0]]\n"
          ]
        }
      ]
    },
    {
      "cell_type": "code",
      "source": [
        "import numpy as np\n",
        "import pandas as pd\n",
        "df1=pd.read_csv('MegaMart_newsales.csv')\n",
        "df2=pd.read_csv('MegaMart_sales.csv')\n",
        "df=df1.merge(df2,how='outer')\n",
        "df.drop_duplicates(keep='first',inplace=True)\n",
        "\n",
        "df['Profit_per_Quantity']=df.Profit/df.Quantity\n",
        "df[df['Profit']>0].sort_values('Profit_per_Quantity',ascending=True)[:5]"
      ],
      "metadata": {
        "id": "zp1wEAYQWqoW",
        "colab": {
          "base_uri": "https://localhost:8080/",
          "height": 206
        },
        "outputId": "edd698b1-f734-4910-d5e4-3cfc29f1ea33"
      },
      "execution_count": null,
      "outputs": [
        {
          "output_type": "execute_result",
          "data": {
            "text/plain": [
              "           Order ID                                Product Name  Discount  \\\n",
              "3   AZ-2011-1930058                 Sanford Markers, Easy-Erase       0.0   \n",
              "61  AZ-2011-1680940          Smead Round Labels, 5000 Label Set       0.0   \n",
              "44  AZ-2011-1474073  Wilson Jones Hole Reinforcements, Recycled       0.0   \n",
              "2   AZ-2011-1916555                 Eldon Folders, Single Width       0.4   \n",
              "38  AZ-2011-1366554                    Avery Index Tab, Durable       0.0   \n",
              "\n",
              "    Sales  Profit  Quantity         Category Sub-Category  Profit_per_Quantity  \n",
              "3      71       1         3  Office Supplies          Art             0.333333  \n",
              "61     15       1         2  Office Supplies       Labels             0.500000  \n",
              "44     10       2         2  Office Supplies      Binders             1.000000  \n",
              "2      61       7         6  Office Supplies      Storage             1.166667  \n",
              "38     13       3         2  Office Supplies      Binders             1.500000  "
            ],
            "text/html": [
              "\n",
              "  <div id=\"df-b1d3a6c1-c686-43d8-816d-4bebb6445c44\">\n",
              "    <div class=\"colab-df-container\">\n",
              "      <div>\n",
              "<style scoped>\n",
              "    .dataframe tbody tr th:only-of-type {\n",
              "        vertical-align: middle;\n",
              "    }\n",
              "\n",
              "    .dataframe tbody tr th {\n",
              "        vertical-align: top;\n",
              "    }\n",
              "\n",
              "    .dataframe thead th {\n",
              "        text-align: right;\n",
              "    }\n",
              "</style>\n",
              "<table border=\"1\" class=\"dataframe\">\n",
              "  <thead>\n",
              "    <tr style=\"text-align: right;\">\n",
              "      <th></th>\n",
              "      <th>Order ID</th>\n",
              "      <th>Product Name</th>\n",
              "      <th>Discount</th>\n",
              "      <th>Sales</th>\n",
              "      <th>Profit</th>\n",
              "      <th>Quantity</th>\n",
              "      <th>Category</th>\n",
              "      <th>Sub-Category</th>\n",
              "      <th>Profit_per_Quantity</th>\n",
              "    </tr>\n",
              "  </thead>\n",
              "  <tbody>\n",
              "    <tr>\n",
              "      <th>3</th>\n",
              "      <td>AZ-2011-1930058</td>\n",
              "      <td>Sanford Markers, Easy-Erase</td>\n",
              "      <td>0.0</td>\n",
              "      <td>71</td>\n",
              "      <td>1</td>\n",
              "      <td>3</td>\n",
              "      <td>Office Supplies</td>\n",
              "      <td>Art</td>\n",
              "      <td>0.333333</td>\n",
              "    </tr>\n",
              "    <tr>\n",
              "      <th>61</th>\n",
              "      <td>AZ-2011-1680940</td>\n",
              "      <td>Smead Round Labels, 5000 Label Set</td>\n",
              "      <td>0.0</td>\n",
              "      <td>15</td>\n",
              "      <td>1</td>\n",
              "      <td>2</td>\n",
              "      <td>Office Supplies</td>\n",
              "      <td>Labels</td>\n",
              "      <td>0.500000</td>\n",
              "    </tr>\n",
              "    <tr>\n",
              "      <th>44</th>\n",
              "      <td>AZ-2011-1474073</td>\n",
              "      <td>Wilson Jones Hole Reinforcements, Recycled</td>\n",
              "      <td>0.0</td>\n",
              "      <td>10</td>\n",
              "      <td>2</td>\n",
              "      <td>2</td>\n",
              "      <td>Office Supplies</td>\n",
              "      <td>Binders</td>\n",
              "      <td>1.000000</td>\n",
              "    </tr>\n",
              "    <tr>\n",
              "      <th>2</th>\n",
              "      <td>AZ-2011-1916555</td>\n",
              "      <td>Eldon Folders, Single Width</td>\n",
              "      <td>0.4</td>\n",
              "      <td>61</td>\n",
              "      <td>7</td>\n",
              "      <td>6</td>\n",
              "      <td>Office Supplies</td>\n",
              "      <td>Storage</td>\n",
              "      <td>1.166667</td>\n",
              "    </tr>\n",
              "    <tr>\n",
              "      <th>38</th>\n",
              "      <td>AZ-2011-1366554</td>\n",
              "      <td>Avery Index Tab, Durable</td>\n",
              "      <td>0.0</td>\n",
              "      <td>13</td>\n",
              "      <td>3</td>\n",
              "      <td>2</td>\n",
              "      <td>Office Supplies</td>\n",
              "      <td>Binders</td>\n",
              "      <td>1.500000</td>\n",
              "    </tr>\n",
              "  </tbody>\n",
              "</table>\n",
              "</div>\n",
              "      <button class=\"colab-df-convert\" onclick=\"convertToInteractive('df-b1d3a6c1-c686-43d8-816d-4bebb6445c44')\"\n",
              "              title=\"Convert this dataframe to an interactive table.\"\n",
              "              style=\"display:none;\">\n",
              "        \n",
              "  <svg xmlns=\"http://www.w3.org/2000/svg\" height=\"24px\"viewBox=\"0 0 24 24\"\n",
              "       width=\"24px\">\n",
              "    <path d=\"M0 0h24v24H0V0z\" fill=\"none\"/>\n",
              "    <path d=\"M18.56 5.44l.94 2.06.94-2.06 2.06-.94-2.06-.94-.94-2.06-.94 2.06-2.06.94zm-11 1L8.5 8.5l.94-2.06 2.06-.94-2.06-.94L8.5 2.5l-.94 2.06-2.06.94zm10 10l.94 2.06.94-2.06 2.06-.94-2.06-.94-.94-2.06-.94 2.06-2.06.94z\"/><path d=\"M17.41 7.96l-1.37-1.37c-.4-.4-.92-.59-1.43-.59-.52 0-1.04.2-1.43.59L10.3 9.45l-7.72 7.72c-.78.78-.78 2.05 0 2.83L4 21.41c.39.39.9.59 1.41.59.51 0 1.02-.2 1.41-.59l7.78-7.78 2.81-2.81c.8-.78.8-2.07 0-2.86zM5.41 20L4 18.59l7.72-7.72 1.47 1.35L5.41 20z\"/>\n",
              "  </svg>\n",
              "      </button>\n",
              "      \n",
              "  <style>\n",
              "    .colab-df-container {\n",
              "      display:flex;\n",
              "      flex-wrap:wrap;\n",
              "      gap: 12px;\n",
              "    }\n",
              "\n",
              "    .colab-df-convert {\n",
              "      background-color: #E8F0FE;\n",
              "      border: none;\n",
              "      border-radius: 50%;\n",
              "      cursor: pointer;\n",
              "      display: none;\n",
              "      fill: #1967D2;\n",
              "      height: 32px;\n",
              "      padding: 0 0 0 0;\n",
              "      width: 32px;\n",
              "    }\n",
              "\n",
              "    .colab-df-convert:hover {\n",
              "      background-color: #E2EBFA;\n",
              "      box-shadow: 0px 1px 2px rgba(60, 64, 67, 0.3), 0px 1px 3px 1px rgba(60, 64, 67, 0.15);\n",
              "      fill: #174EA6;\n",
              "    }\n",
              "\n",
              "    [theme=dark] .colab-df-convert {\n",
              "      background-color: #3B4455;\n",
              "      fill: #D2E3FC;\n",
              "    }\n",
              "\n",
              "    [theme=dark] .colab-df-convert:hover {\n",
              "      background-color: #434B5C;\n",
              "      box-shadow: 0px 1px 3px 1px rgba(0, 0, 0, 0.15);\n",
              "      filter: drop-shadow(0px 1px 2px rgba(0, 0, 0, 0.3));\n",
              "      fill: #FFFFFF;\n",
              "    }\n",
              "  </style>\n",
              "\n",
              "      <script>\n",
              "        const buttonEl =\n",
              "          document.querySelector('#df-b1d3a6c1-c686-43d8-816d-4bebb6445c44 button.colab-df-convert');\n",
              "        buttonEl.style.display =\n",
              "          google.colab.kernel.accessAllowed ? 'block' : 'none';\n",
              "\n",
              "        async function convertToInteractive(key) {\n",
              "          const element = document.querySelector('#df-b1d3a6c1-c686-43d8-816d-4bebb6445c44');\n",
              "          const dataTable =\n",
              "            await google.colab.kernel.invokeFunction('convertToInteractive',\n",
              "                                                     [key], {});\n",
              "          if (!dataTable) return;\n",
              "\n",
              "          const docLinkHtml = 'Like what you see? Visit the ' +\n",
              "            '<a target=\"_blank\" href=https://colab.research.google.com/notebooks/data_table.ipynb>data table notebook</a>'\n",
              "            + ' to learn more about interactive tables.';\n",
              "          element.innerHTML = '';\n",
              "          dataTable['output_type'] = 'display_data';\n",
              "          await google.colab.output.renderOutput(dataTable, element);\n",
              "          const docLink = document.createElement('div');\n",
              "          docLink.innerHTML = docLinkHtml;\n",
              "          element.appendChild(docLink);\n",
              "        }\n",
              "      </script>\n",
              "    </div>\n",
              "  </div>\n",
              "  "
            ]
          },
          "metadata": {},
          "execution_count": 32
        }
      ]
    },
    {
      "cell_type": "code",
      "source": [
        "import numpy as np\n",
        "import matplotlib.pyplot as plt\n",
        "list_1 = [48.49, 67.54, 57.47, 68.17, 51.18, 68.31, 50.33, 66.7, 45.62, 43.59, 53.64, 70.08, 47.69, 61.27, 44.14, 51.62, 48.72, 65.11]\n",
        "plt.boxplot([list_1])\n",
        "Q1=np.percentile(list_1,25)\n",
        "Q2=np.percentile(list_1,75)\n",
        "\n",
        "print(Q1)\n",
        "print(Q2)"
      ],
      "metadata": {
        "id": "qaScdv8KdLDb",
        "colab": {
          "base_uri": "https://localhost:8080/",
          "height": 300
        },
        "outputId": "c6ff4c3a-d5ca-4f98-db8e-60b6ed4a06ba"
      },
      "execution_count": null,
      "outputs": [
        {
          "output_type": "stream",
          "name": "stdout",
          "text": [
            "48.5475\n",
            "66.30250000000001\n"
          ]
        },
        {
          "output_type": "display_data",
          "data": {
            "text/plain": [
              "<Figure size 432x288 with 1 Axes>"
            ],
            "image/png": "[encoded data removed]"
          },
          "metadata": {
            "needs_background": "light"
          }
        }
      ]
    },
    {
      "cell_type": "code",
      "source": [
        "def my_func(*args):\n",
        "  return(sum(args))\n",
        "\n",
        "print(my_func(1,2,3,4,5))\n",
        "print(my_func(6,7,8))"
      ],
      "metadata": {
        "id": "dsR28iyiLCLx",
        "colab": {
          "base_uri": "https://localhost:8080/"
        },
        "outputId": "c9cf1966-2375-4d5a-eac3-3259b0284c11"
      },
      "execution_count": null,
      "outputs": [
        {
          "output_type": "stream",
          "name": "stdout",
          "text": [
            "15\n",
            "21\n"
          ]
        }
      ]
    },
    {
      "cell_type": "code",
      "source": [
        "a = ['a','b','c','e','d']\n",
        "b = [1,2,3,5,4]\n",
        "c = list(zip(a,b))\n",
        "res = sorted(c, key = lambda x: x[1])\n",
        "res[-2]"
      ],
      "metadata": {
        "id": "-49WVHLdoK4h",
        "colab": {
          "base_uri": "https://localhost:8080/"
        },
        "outputId": "bdc34a30-9239-4cc5-8a80-68087f631b6a"
      },
      "execution_count": null,
      "outputs": [
        {
          "output_type": "execute_result",
          "data": {
            "text/plain": [
              "('d', 4)"
            ]
          },
          "metadata": {},
          "execution_count": 2
        }
      ]
    },
    {
      "cell_type": "code",
      "source": [
        "L=['1','2','2','5','6','6','6']\n",
        "d={word:L.count(word) for word in L}\n",
        "d"
      ],
      "metadata": {
        "colab": {
          "base_uri": "https://localhost:8080/"
        },
        "id": "dOizRI_tHRpY",
        "outputId": "f4b2f4c6-7a35-44d6-9c63-f00fbaac636b"
      },
      "execution_count": null,
      "outputs": [
        {
          "output_type": "execute_result",
          "data": {
            "text/plain": [
              "{'1': 1, '2': 2, '5': 1, '6': 3}"
            ]
          },
          "metadata": {},
          "execution_count": 7
        }
      ]
    },
    {
      "cell_type": "code",
      "source": [
        "d={'1':1,'2':4,'3':9,'4':16}\n",
        "for i,j in d.items():\n",
        "  if int(i)**2==j:\n",
        "    print('True')\n",
        "    break\n",
        "  else:\n",
        "    print('False')\n",
        "    break\n"
      ],
      "metadata": {
        "id": "HKW_B-zRL1bi",
        "colab": {
          "base_uri": "https://localhost:8080/"
        },
        "outputId": "b522d36e-49e6-423f-c34d-182c2d2d0ec1"
      },
      "execution_count": null,
      "outputs": [
        {
          "output_type": "stream",
          "name": "stdout",
          "text": [
            "True\n"
          ]
        }
      ]
    },
    {
      "cell_type": "code",
      "source": [
        "n=int(input())\n",
        "for i in range(0,n):\n",
        "  for j in range(i,n-1):\n",
        "    print('_',end='')\n",
        "  for k in range(0,i+1):\n",
        "    print('*',end='')\n",
        "  print()"
      ],
      "metadata": {
        "colab": {
          "base_uri": "https://localhost:8080/"
        },
        "id": "tBntA5LRfnF-",
        "outputId": "7990f438-3bb3-4204-cbb7-44ca17497472"
      },
      "execution_count": null,
      "outputs": [
        {
          "output_type": "stream",
          "name": "stdout",
          "text": [
            "3\n",
            "__*\n",
            "_**\n",
            "***\n"
          ]
        }
      ]
    },
    {
      "cell_type": "code",
      "source": [
        "n = int(input())\n",
        "a= '_ '\n",
        "b='*'\n",
        "l=[]\n",
        "for i in range(1,n+1):\n",
        "  t= a*(n-i)+b*i\n",
        "  l.append(t)\n",
        "print(l)"
      ],
      "metadata": {
        "colab": {
          "base_uri": "https://localhost:8080/"
        },
        "id": "2uiTLBjPgpI2",
        "outputId": "e32da08c-b26e-46b7-b7a0-cf6693d3d5ba"
      },
      "execution_count": null,
      "outputs": [
        {
          "output_type": "stream",
          "name": "stdout",
          "text": [
            "3\n",
            "['_ _ *', '_ **', '***']\n"
          ]
        }
      ]
    },
    {
      "cell_type": "code",
      "source": [
        "L=[1,2,3,4]\n",
        "L1=[5,6,7,8]\n",
        "L+L1"
      ],
      "metadata": {
        "id": "clS4PoeRiNI4",
        "colab": {
          "base_uri": "https://localhost:8080/"
        },
        "outputId": "694bfe0a-9da9-459c-d383-f63bbcb43a3b"
      },
      "execution_count": null,
      "outputs": [
        {
          "output_type": "execute_result",
          "data": {
            "text/plain": [
              "[1, 2, 3, 4, 5, 6, 7, 8]"
            ]
          },
          "metadata": {},
          "execution_count": 1
        }
      ]
    },
    {
      "cell_type": "code",
      "source": [
        "n=int(input())#find the sum of primes from 2 to n \n",
        "L=[]\n",
        "count=0\n",
        "for i in range(2,n):\n",
        "    if n%i==0:\n",
        "        count=count+1\n",
        "if count>2:\n",
        "    L.append(i)\n",
        "L"
      ],
      "metadata": {
        "id": "vqscaO-4RTwz",
        "colab": {
          "base_uri": "https://localhost:8080/"
        },
        "outputId": "7d2d02da-4ef6-46e0-cfaf-b48c82fc4e41"
      },
      "execution_count": null,
      "outputs": [
        {
          "name": "stdout",
          "output_type": "stream",
          "text": [
            "5\n"
          ]
        },
        {
          "output_type": "execute_result",
          "data": {
            "text/plain": [
              "[]"
            ]
          },
          "metadata": {},
          "execution_count": 2
        }
      ]
    },
    {
      "cell_type": "code",
      "source": [
        "n=int(input())\n",
        "L=[2]\n",
        "for i in range(3,n+1):\n",
        "\n",
        "    for j in range(2,i):\n",
        "        if i%j==0:\n",
        "          break\n",
        "    else:\n",
        "      L.append(i)\n",
        "for k in L:\n",
        "  print(k)"
      ],
      "metadata": {
        "id": "RFEzhmWuaaln",
        "colab": {
          "base_uri": "https://localhost:8080/"
        },
        "outputId": "da5509e3-f34f-42df-bc27-7a0fa66370eb"
      },
      "execution_count": null,
      "outputs": [
        {
          "output_type": "stream",
          "name": "stdout",
          "text": [
            "7\n",
            "2\n",
            "3\n",
            "5\n",
            "7\n"
          ]
        }
      ]
    },
    {
      "cell_type": "code",
      "source": [],
      "metadata": {
        "id": "bMp-sAbND41G"
      },
      "execution_count": null,
      "outputs": []
    }
  ]
}