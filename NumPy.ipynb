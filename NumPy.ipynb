{
  "nbformat": 4,
  "nbformat_minor": 0,
  "metadata": {
    "colab": {
      "provenance": [],
      "collapsed_sections": [],
      "authorship_tag": "ABX9TyOeWa0IPGItOevnOrj8RgeG",
      "include_colab_link": true
    },
    "kernelspec": {
      "name": "python3",
      "display_name": "Python 3"
    },
    "language_info": {
      "name": "python"
    }
  },
  "cells": [
    {
      "cell_type": "markdown",
      "metadata": {
        "id": "view-in-github",
        "colab_type": "text"
      },
      "source": [
        "<a href=\"https://colab.research.google.com/github/Namrata3103-star/Key-Projects/blob/main/NumPy.ipynb\" target=\"_parent\"><img src=\"https://colab.research.google.com/assets/colab-badge.svg\" alt=\"Open In Colab\"/></a>"
      ]
    },
    {
      "cell_type": "code",
      "execution_count": null,
      "metadata": {
        "colab": {
          "base_uri": "https://localhost:8080/"
        },
        "id": "3XC-jTaGXh58",
        "outputId": "d0fe4ea0-a2bf-4a1f-94b0-e23e63b6726f"
      },
      "outputs": [
        {
          "output_type": "stream",
          "name": "stdout",
          "text": [
            "[[4 0 1]\n",
            " [5 8 6]\n",
            " [9 3 2]]\n"
          ]
        }
      ],
      "source": [
        "import numpy as np\n",
        "input_list=[[9,3,2],\n",
        " [4 ,0, 1],\n",
        " [5, 8 ,6]]\n",
        "n_array = np.array(input_list)\n",
        "for i in range(len(n_array[0,:])):\n",
        "    n_array=n_array[n_array[:,-1-i].argsort()]\n",
        "print(n_array)"
      ]
    },
    {
      "cell_type": "code",
      "source": [
        "import numpy as np\n",
        "input_list=[[9,3,2],\n",
        " [4 ,0, 1],\n",
        " [5, 8 ,6]]\n",
        "n_array = np.array(input_list)\n",
        "print(n_array[n_array[:,-3].argsort()])"
      ],
      "metadata": {
        "colab": {
          "base_uri": "https://localhost:8080/"
        },
        "id": "XtAS2JgKXlxd",
        "outputId": "582d531c-3fc0-40dc-80ca-431ee4c658a4"
      },
      "execution_count": null,
      "outputs": [
        {
          "output_type": "stream",
          "name": "stdout",
          "text": [
            "[[4 0 1]\n",
            " [5 8 6]\n",
            " [9 3 2]]\n"
          ]
        }
      ]
    },
    {
      "cell_type": "code",
      "source": [
        "import numpy as np\n",
        "input_list=[[9,3,2],\n",
        " [4 ,0, 1],\n",
        " [5, 8 ,6]]\n",
        "n_array = np.array(input_list)\n",
        "print(n_array[n_array[:,-2].argsort()])"
      ],
      "metadata": {
        "id": "qGmY8qJ8YX2I",
        "outputId": "3d8c8296-c2ea-43a4-d434-099905de7a06",
        "colab": {
          "base_uri": "https://localhost:8080/"
        }
      },
      "execution_count": null,
      "outputs": [
        {
          "output_type": "stream",
          "name": "stdout",
          "text": [
            "[[4 0 1]\n",
            " [9 3 2]\n",
            " [5 8 6]]\n"
          ]
        }
      ]
    },
    {
      "cell_type": "code",
      "source": [
        "import numpy as np\n",
        "input_list=[[9,3,2],\n",
        " [4 ,0, 1],\n",
        " [5, 8 ,6]]\n",
        "n_array = np.array(input_list)\n",
        "print(n_array[n_array[:,-1].argsort()])"
      ],
      "metadata": {
        "id": "DJrouHKCYaWD",
        "outputId": "e764e748-28b7-49b6-a608-c034fb6a2f25",
        "colab": {
          "base_uri": "https://localhost:8080/"
        }
      },
      "execution_count": null,
      "outputs": [
        {
          "output_type": "stream",
          "name": "stdout",
          "text": [
            "[[4 0 1]\n",
            " [9 3 2]\n",
            " [5 8 6]]\n"
          ]
        }
      ]
    },
    {
      "cell_type": "code",
      "source": [
        "import numpy as np\n",
        "a = np.array( [7, 10, 2, 4, 13, 16])\n",
        "med = np.percentile(a, 50)\n",
        "print(med)"
      ],
      "metadata": {
        "colab": {
          "base_uri": "https://localhost:8080/"
        },
        "id": "wz17La6Md8-R",
        "outputId": "8e5d626c-ab69-40d5-98ac-e3e1099c60fb"
      },
      "execution_count": null,
      "outputs": [
        {
          "output_type": "stream",
          "name": "stdout",
          "text": [
            "8.5\n"
          ]
        }
      ]
    },
    {
      "cell_type": "code",
      "source": [
        "import numpy as np\n",
        "import ast\n",
        "#input has been taken for you\n",
        "inp_list=ast.literal_eval(input())\n",
        "arr=np.array(inp_list)\n",
        "print(arr[arr[:,:]>3])"
      ],
      "metadata": {
        "colab": {
          "base_uri": "https://localhost:8080/"
        },
        "id": "4D74nPmXeIXS",
        "outputId": "954573d4-bfbc-4dbc-a6f7-f11c323101db"
      },
      "execution_count": null,
      "outputs": [
        {
          "output_type": "stream",
          "name": "stdout",
          "text": [
            "[[9,8,7],[6,5,4],[3,2,1]]\n",
            "[9 8 7 6 5 4]\n"
          ]
        }
      ]
    },
    {
      "cell_type": "code",
      "source": [
        "import numpy as np\n",
        "import ast\n",
        "\n",
        "#input has been taken for you\n",
        "arr = np.array(ast.literal_eval(input()))\n",
        "arr1=np.percentile(arr,60)\n",
        "arr2=round(arr1,2)\n",
        "print(arr2)"
      ],
      "metadata": {
        "colab": {
          "base_uri": "https://localhost:8080/"
        },
        "id": "bpXJsWmpeM_6",
        "outputId": "97b2a752-f835-4380-b186-5640f3dd84cd"
      },
      "execution_count": null,
      "outputs": [
        {
          "output_type": "stream",
          "name": "stdout",
          "text": [
            "[11, 22, 33, 44 ,55 ,66, 77]\n",
            "50.6\n"
          ]
        }
      ]
    },
    {
      "cell_type": "code",
      "source": [
        "import numpy as np\n",
        "n=int(input())\n",
        "L=[]\n",
        "for i in range(0,n):\n",
        "    L.append(i)\n",
        "arr=np.array(L)\n",
        "print(round(np.average(arr),2))\n",
        "print(round(np.std(arr),2))\n",
        "print(round(np.var(arr),2))"
      ],
      "metadata": {
        "colab": {
          "base_uri": "https://localhost:8080/"
        },
        "id": "bhJTlgJJeTZ-",
        "outputId": "217bf8ac-7523-4db7-ab3b-adcf513d5884"
      },
      "execution_count": null,
      "outputs": [
        {
          "output_type": "stream",
          "name": "stdout",
          "text": [
            "16\n",
            "7.5\n",
            "4.61\n",
            "21.25\n"
          ]
        }
      ]
    },
    {
      "cell_type": "code",
      "source": [
        "n = int(input())\n",
        "import numpy as np \n",
        "print(np.eye(n,dtype=int))"
      ],
      "metadata": {
        "colab": {
          "base_uri": "https://localhost:8080/"
        },
        "id": "WRxj3B2UeZNg",
        "outputId": "00c722ae-61f5-425f-c478-4f57f5a1de45"
      },
      "execution_count": null,
      "outputs": [
        {
          "output_type": "stream",
          "name": "stdout",
          "text": [
            "3\n",
            "[[1 0 0]\n",
            " [0 1 0]\n",
            " [0 0 1]]\n"
          ]
        }
      ]
    },
    {
      "cell_type": "code",
      "source": [
        "n = int(input())\n",
        "import numpy as np \n",
        "arr=np.zeros((n,n),dtype=int)\n",
        "arr[0]=1\n",
        "arr[n-1]=1\n",
        "j=n-1\n",
        "for i in range(1,n-1):\n",
        "    j=j-1\n",
        "    arr[i,j]=1\n",
        "print(arr)"
      ],
      "metadata": {
        "colab": {
          "base_uri": "https://localhost:8080/"
        },
        "id": "-y5PfBneeh8Y",
        "outputId": "382d8a6b-8c3e-4a0e-84cf-e84ad91cd361"
      },
      "execution_count": null,
      "outputs": [
        {
          "output_type": "stream",
          "name": "stdout",
          "text": [
            "5\n",
            "[[1 1 1 1 1]\n",
            " [0 0 0 1 0]\n",
            " [0 0 1 0 0]\n",
            " [0 1 0 0 0]\n",
            " [1 1 1 1 1]]\n"
          ]
        }
      ]
    },
    {
      "cell_type": "code",
      "source": [
        "input_list =[[9,3,2],\n",
        " [4, 0, 1],\n",
        " [5, 8, 6]]\n",
        "import numpy as np\n",
        "n_array = np.array(input_list)\n",
        "n_array[0,:]"
      ],
      "metadata": {
        "colab": {
          "base_uri": "https://localhost:8080/"
        },
        "id": "n-liAFLJezUu",
        "outputId": "6ee4b849-9cca-4058-bb60-6c0003e82065"
      },
      "execution_count": null,
      "outputs": [
        {
          "output_type": "execute_result",
          "data": {
            "text/plain": [
              "array([9, 3, 2])"
            ]
          },
          "metadata": {},
          "execution_count": 15
        }
      ]
    },
    {
      "cell_type": "code",
      "source": [
        "import numpy as np\n",
        "myarr=np.arange(1,21).reshape(4,5)\n",
        "print(myarr)"
      ],
      "metadata": {
        "id": "qVXlq-bse3d0",
        "colab": {
          "base_uri": "https://localhost:8080/"
        },
        "outputId": "67fe24a6-7f38-4e70-c529-401fe64ee317"
      },
      "execution_count": null,
      "outputs": [
        {
          "output_type": "stream",
          "name": "stdout",
          "text": [
            "[[ 1  2  3  4  5]\n",
            " [ 6  7  8  9 10]\n",
            " [11 12 13 14 15]\n",
            " [16 17 18 19 20]]\n"
          ]
        }
      ]
    },
    {
      "cell_type": "code",
      "source": [
        "import numpy as np\n",
        "import ast\n",
        "\n",
        "#input has been taken for you\n",
        "arr = np.array(ast.literal_eval(input()))\n",
        "count1=0\n",
        "count2=0\n",
        "for i in range(len(arr[0,:])):\n",
        "  for j in range(len(arr[0,:])):\n",
        "    if i==j:\n",
        "      count1=count1+arr[i][j]\n",
        "    elif (i+j)==len(arr[0,:])-1:\n",
        "      count2=count2+arr[i][j]\n",
        "Output=count1+count2\n",
        "print(Output)\n"
      ],
      "metadata": {
        "id": "wG8FEguBPCv5",
        "colab": {
          "base_uri": "https://localhost:8080/"
        },
        "outputId": "fcadadb5-6933-4eba-e653-0d27b9fd3fbe"
      },
      "execution_count": null,
      "outputs": [
        {
          "output_type": "stream",
          "name": "stdout",
          "text": [
            "[[1,2,3],  [4,5,6],  [7,8,9]]\n",
            "25\n"
          ]
        }
      ]
    },
    {
      "cell_type": "code",
      "source": [],
      "metadata": {
        "id": "4oxonz4lq2UC"
      },
      "execution_count": null,
      "outputs": []
    }
  ]
}