{
  "nbformat": 4,
  "nbformat_minor": 0,
  "metadata": {
    "colab": {
      "provenance": [],
      "collapsed_sections": [],
      "authorship_tag": "ABX9TyO96LmSbMytOh8T47iymyw8",
      "include_colab_link": true
    },
    "kernelspec": {
      "name": "python3",
      "display_name": "Python 3"
    },
    "language_info": {
      "name": "python"
    }
  },
  "cells": [
    {
      "cell_type": "markdown",
      "metadata": {
        "id": "view-in-github",
        "colab_type": "text"
      },
      "source": [
        "<a href=\"https://colab.research.google.com/github/Namrata3103-star/Key-Projects/blob/main/Basics%2C_Functions_%26_Data_Structures.ipynb\" target=\"_parent\"><img src=\"https://colab.research.google.com/assets/colab-badge.svg\" alt=\"Open In Colab\"/></a>"
      ]
    },
    {
      "cell_type": "code",
      "source": [
        "print(help(\"keywords\"))"
      ],
      "metadata": {
        "colab": {
          "base_uri": "https://localhost:8080/"
        },
        "id": "iAe6rAtoAHa7",
        "outputId": "38108d07-27b0-460f-c210-85851336b06d"
      },
      "execution_count": null,
      "outputs": [
        {
          "output_type": "stream",
          "name": "stdout",
          "text": [
            "\n",
            "Here is a list of the Python keywords.  Enter any keyword to get more help.\n",
            "\n",
            "False               class               from                or\n",
            "None                continue            global              pass\n",
            "True                def                 if                  raise\n",
            "and                 del                 import              return\n",
            "as                  elif                in                  try\n",
            "assert              else                is                  while\n",
            "async               except              lambda              with\n",
            "await               finally             nonlocal            yield\n",
            "break               for                 not                 \n",
            "\n",
            "None\n"
          ]
        }
      ]
    },
    {
      "cell_type": "code",
      "source": [
        "x=float(input(\"Number1: \"))\n",
        "y=float(input(\"Number2: \"))\n",
        "average=(x+y)/2\n",
        "print(average)"
      ],
      "metadata": {
        "colab": {
          "base_uri": "https://localhost:8080/"
        },
        "id": "BnWl_pbVFGNb",
        "outputId": "cc5aa18b-9cbd-4d4d-ba08-84f69d710df9"
      },
      "execution_count": null,
      "outputs": [
        {
          "output_type": "stream",
          "name": "stdout",
          "text": [
            "Number1: 22.5\n",
            "Number2: 66.8\n",
            "44.65\n"
          ]
        }
      ]
    },
    {
      "cell_type": "code",
      "source": [
        "x=float(input(\"Principal:\"))\n",
        "y=float(input(\"Rate:\"))\n",
        "z=float(input(\"Time\"))\n",
        "simple_interest=(x*y*z)/100\n",
        "print(\"Simple Interest:\",simple_interest)"
      ],
      "metadata": {
        "colab": {
          "base_uri": "https://localhost:8080/"
        },
        "id": "C60OUhSLPmmx",
        "outputId": "f43da2b2-63b7-45d8-83e7-0d5ce8feaaee"
      },
      "execution_count": null,
      "outputs": [
        {
          "output_type": "stream",
          "name": "stdout",
          "text": [
            "Principal:100\n",
            "Rate:2.5\n",
            "Time1.5\n",
            "Simple Interest: 3.75\n"
          ]
        }
      ]
    },
    {
      "cell_type": "code",
      "source": [
        "age=int(input(\"Age:\"))\n",
        "if age>18:\n",
        "  print(\"Eligible to vote\")\n",
        "else:\n",
        "  print(\"Not eligible to vote\")"
      ],
      "metadata": {
        "colab": {
          "base_uri": "https://localhost:8080/"
        },
        "id": "gTfC4s9IUaaE",
        "outputId": "4b360eb4-6b8a-4756-ae4a-58fe3c3168d3"
      },
      "execution_count": null,
      "outputs": [
        {
          "output_type": "stream",
          "name": "stdout",
          "text": [
            "Age:5\n",
            "Not eligible\n"
          ]
        }
      ]
    },
    {
      "cell_type": "code",
      "source": [
        "input_str='bmaunmdbraai'\n",
        "message1=input_str[0:-1:2]\n",
        "message2=input_str[1:len(input_str):2]\n",
        "print(message1.rstrip('#')+','+message2.rstrip('#'))"
      ],
      "metadata": {
        "colab": {
          "base_uri": "https://localhost:8080/"
        },
        "id": "tIT5Y15kjcif",
        "outputId": "c63ea1d8-f13b-443b-ac99-f54752cc1dd2"
      },
      "execution_count": null,
      "outputs": [
        {
          "output_type": "stream",
          "name": "stdout",
          "text": [
            "bandra , mumbai\n"
          ]
        }
      ]
    },
    {
      "cell_type": "code",
      "source": [
        "x = 'len'\n",
        "x[len(x * 2) - 5]"
      ],
      "metadata": {
        "colab": {
          "base_uri": "https://localhost:8080/",
          "height": 35
        },
        "id": "ynCFSL3ikn5b",
        "outputId": "98685508-52e9-4d13-9e1e-3d16c1baed66"
      },
      "execution_count": null,
      "outputs": [
        {
          "output_type": "execute_result",
          "data": {
            "application/vnd.google.colaboratory.intrinsic+json": {
              "type": "string"
            },
            "text/plain": [
              "'e'"
            ]
          },
          "metadata": {},
          "execution_count": 13
        }
      ]
    },
    {
      "cell_type": "code",
      "source": [
        "sentence = 'This sentence needs to be split into words'\n",
        "print(sentence.split()[5])"
      ],
      "metadata": {
        "colab": {
          "base_uri": "https://localhost:8080/"
        },
        "id": "5UFFgxuMD351",
        "outputId": "65948619-bf7f-41b8-eac0-d5d0eb5f49f1"
      },
      "execution_count": null,
      "outputs": [
        {
          "output_type": "stream",
          "name": "stdout",
          "text": [
            "split\n"
          ]
        }
      ]
    },
    {
      "cell_type": "code",
      "source": [
        "if 4+9<10:\n",
        "  print(\"true\")\n",
        "else:\n",
        "  print(\"false\")\n",
        "print(\"true\")"
      ],
      "metadata": {
        "colab": {
          "base_uri": "https://localhost:8080/"
        },
        "id": "1-HM8uPbErT_",
        "outputId": "06ee2356-e4b1-4371-efd6-1bb9665fc3b7"
      },
      "execution_count": null,
      "outputs": [
        {
          "output_type": "stream",
          "name": "stdout",
          "text": [
            "false\n",
            "true\n"
          ]
        }
      ]
    },
    {
      "cell_type": "code",
      "source": [
        "inp=input()\n",
        "Vowels='aeiouAEIOU'\n",
        "for x in inp:\n",
        "  if x in Vowels:\n",
        "    inp=inp.replace(x,'#')\n",
        "print(inp)\n"
      ],
      "metadata": {
        "colab": {
          "base_uri": "https://localhost:8080/"
        },
        "id": "iC1aelwiN8MK",
        "outputId": "6ebab0b6-336a-4789-b261-551ab9f78a18"
      },
      "execution_count": null,
      "outputs": [
        {
          "output_type": "stream",
          "name": "stdout",
          "text": [
            "upgrad\n",
            "#pgr#d\n"
          ]
        }
      ]
    },
    {
      "cell_type": "code",
      "source": [
        "import ast\n",
        "L = ast.literal_eval(input())\n",
        "L.sort(key=lambda i:i[1],reverse=True)\n",
        "L"
      ],
      "metadata": {
        "id": "ZtoDWtaIOuNW",
        "colab": {
          "base_uri": "https://localhost:8080/"
        },
        "outputId": "08929f08-91a1-4f44-c5b1-881a26fa293a"
      },
      "execution_count": null,
      "outputs": [
        {
          "name": "stdout",
          "output_type": "stream",
          "text": [
            "[(45,77), (88,87), (67,98), (33,31)]\n"
          ]
        },
        {
          "output_type": "execute_result",
          "data": {
            "text/plain": [
              "[(67, 98), (88, 87), (45, 77), (33, 31)]"
            ]
          },
          "metadata": {},
          "execution_count": 1
        }
      ]
    },
    {
      "cell_type": "code",
      "source": [
        "input_str=input()\n",
        "if input_str[0] in 'aeiou':\n",
        "  print(\"YES\")\n",
        "else:\n",
        "  print(\"NO\")\n"
      ],
      "metadata": {
        "id": "pXKXICTZc3Os",
        "colab": {
          "base_uri": "https://localhost:8080/"
        },
        "outputId": "17e6da72-f0e7-4873-94ad-d3a103efc8e3"
      },
      "execution_count": null,
      "outputs": [
        {
          "output_type": "stream",
          "name": "stdout",
          "text": [
            "beta\n",
            "NO\n"
          ]
        }
      ]
    },
    {
      "cell_type": "code",
      "source": [
        "input_string = \"I love Python\"\n",
        "k = [(i.upper(), len(i)) for i in input_string.split(' ')]\n",
        "print(k)"
      ],
      "metadata": {
        "id": "0HZBAn8G2vJz",
        "colab": {
          "base_uri": "https://localhost:8080/"
        },
        "outputId": "8cae4692-8208-4f39-ff3a-1599ece88e88"
      },
      "execution_count": null,
      "outputs": [
        {
          "output_type": "stream",
          "name": "stdout",
          "text": [
            "[('I', 1), ('LOVE', 4), ('PYTHON', 6)]\n"
          ]
        }
      ]
    },
    {
      "cell_type": "code",
      "source": [
        "var = [i**2 for i in range(5)]\n",
        "print(var)"
      ],
      "metadata": {
        "colab": {
          "base_uri": "https://localhost:8080/"
        },
        "id": "tTYVkKNj1wQX",
        "outputId": "242b993a-353a-4f0d-9d7d-7ff0249f5191"
      },
      "execution_count": null,
      "outputs": [
        {
          "output_type": "stream",
          "name": "stdout",
          "text": [
            "[0, 1, 4, 9, 16]\n"
          ]
        }
      ]
    },
    {
      "cell_type": "code",
      "source": [
        "l1=[1,2,3,7]\n",
        "l2=[4,5,6,9]\n",
        "[x+y for x in l1 for y in l2]"
      ],
      "metadata": {
        "colab": {
          "base_uri": "https://localhost:8080/"
        },
        "id": "7udRaU6F1-bt",
        "outputId": "cf4e9825-cc7a-4ef2-cfeb-6e22db97e572"
      },
      "execution_count": null,
      "outputs": [
        {
          "output_type": "execute_result",
          "data": {
            "text/plain": [
              "[5, 6, 7, 10, 6, 7, 8, 11, 7, 8, 9, 12, 11, 12, 13, 16]"
            ]
          },
          "metadata": {},
          "execution_count": 3
        }
      ]
    },
    {
      "cell_type": "code",
      "source": [
        "def function(n):\n",
        "  n=n+1\n",
        "  return n\n",
        " \n",
        "n=2\n",
        "print(function(2))\n"
      ],
      "metadata": {
        "colab": {
          "base_uri": "https://localhost:8080/"
        },
        "id": "6xrAuzmu2Jr6",
        "outputId": "6b90e1ba-5317-421c-a651-6da207c6c8aa"
      },
      "execution_count": null,
      "outputs": [
        {
          "output_type": "stream",
          "name": "stdout",
          "text": [
            "3\n"
          ]
        }
      ]
    },
    {
      "cell_type": "code",
      "source": [
        "x=10\n",
        "def func(x):\n",
        "   x=20\n",
        "print(x)\n",
        " \n",
        "print(x)"
      ],
      "metadata": {
        "colab": {
          "base_uri": "https://localhost:8080/"
        },
        "id": "lDj3yFEk2h3q",
        "outputId": "b57996b4-cb36-435e-eca9-03d1b33ca5f7"
      },
      "execution_count": null,
      "outputs": [
        {
          "output_type": "stream",
          "name": "stdout",
          "text": [
            "10\n",
            "10\n"
          ]
        }
      ]
    },
    {
      "cell_type": "code",
      "source": [
        "def samplefunc(msg,i=3):\n",
        "  print(msg*i)\n",
        " \n",
        "samplefunc('python',4)\n",
        "samplefunc('program')"
      ],
      "metadata": {
        "colab": {
          "base_uri": "https://localhost:8080/"
        },
        "id": "T1IW9Hq42tvx",
        "outputId": "08e90a31-f0cd-4cdc-ff54-f439337a9fba"
      },
      "execution_count": null,
      "outputs": [
        {
          "output_type": "stream",
          "name": "stdout",
          "text": [
            "pythonpythonpythonpython\n",
            "programprogramprogram\n"
          ]
        }
      ]
    },
    {
      "cell_type": "code",
      "source": [
        "f=lambda x:bool(x%2)\n",
        "print(f(100)* f(101))"
      ],
      "metadata": {
        "colab": {
          "base_uri": "https://localhost:8080/"
        },
        "id": "rMkuKZ_T3gt2",
        "outputId": "5a6648ee-1466-440b-c0a3-7991d6cc6949"
      },
      "execution_count": null,
      "outputs": [
        {
          "output_type": "stream",
          "name": "stdout",
          "text": [
            "0\n"
          ]
        }
      ]
    },
    {
      "cell_type": "code",
      "source": [
        "l=(1, -2, -3, 4, 5)\n",
        "def f1(x):\n",
        "    return x//2\n",
        "m1=map(f1, l)\n",
        "print(list(m1))"
      ],
      "metadata": {
        "colab": {
          "base_uri": "https://localhost:8080/"
        },
        "id": "d20ewOlS33xz",
        "outputId": "6e357d59-0199-4e05-b7e2-b3db77441e70"
      },
      "execution_count": null,
      "outputs": [
        {
          "output_type": "stream",
          "name": "stdout",
          "text": [
            "[0, -1, -2, 2, 2]\n"
          ]
        }
      ]
    },
    {
      "cell_type": "code",
      "source": [
        "sample=[-4,2,5,-3]\n",
        "ans=map(lambda x: x*2,sample)\n",
        "print(list(ans))"
      ],
      "metadata": {
        "colab": {
          "base_uri": "https://localhost:8080/"
        },
        "id": "tIR6v8tw4LbA",
        "outputId": "5258d4b1-d8b9-44c0-976f-252a3aee5ca5"
      },
      "execution_count": null,
      "outputs": [
        {
          "output_type": "stream",
          "name": "stdout",
          "text": [
            "[-8, 4, 10, -6]\n"
          ]
        }
      ]
    },
    {
      "cell_type": "code",
      "source": [
        "import functools\n",
        "lis=[1, 2, 3, 4, 5]\n",
        "m=functools.reduce(lambda x, y:x if x<y else y, lis)\n",
        "print(m)"
      ],
      "metadata": {
        "colab": {
          "base_uri": "https://localhost:8080/"
        },
        "id": "1ucTS1RH5Mij",
        "outputId": "44da6337-3b8c-4e93-d108-66d579cd49ae"
      },
      "execution_count": null,
      "outputs": [
        {
          "output_type": "stream",
          "name": "stdout",
          "text": [
            "1\n"
          ]
        }
      ]
    },
    {
      "cell_type": "code",
      "source": [
        "lis=[1, 2, 3, 4, 5]\n",
        "c=lis[0]\n",
        "for i in range(len(lis)-1):\n",
        "    if lis[i]<c:\n",
        "       c=lis[i]\n",
        "print(c)"
      ],
      "metadata": {
        "colab": {
          "base_uri": "https://localhost:8080/"
        },
        "id": "BuIUSP3K5Y4y",
        "outputId": "d9cddcdb-e7e0-4817-c79c-864f69ee8420"
      },
      "execution_count": null,
      "outputs": [
        {
          "output_type": "stream",
          "name": "stdout",
          "text": [
            "1\n"
          ]
        }
      ]
    },
    {
      "cell_type": "code",
      "source": [
        "letters = ('d','i','a','s')\n",
        "ans = list(map(lambda word: f\"{word}x\", letters))\n",
        "print(ans)"
      ],
      "metadata": {
        "colab": {
          "base_uri": "https://localhost:8080/"
        },
        "id": "APQL9fwC5crl",
        "outputId": "255cbe10-ca2d-4001-e848-ab5d276252ed"
      },
      "execution_count": null,
      "outputs": [
        {
          "output_type": "stream",
          "name": "stdout",
          "text": [
            "['dx', 'ix', 'ax', 'sx']\n"
          ]
        }
      ]
    },
    {
      "cell_type": "code",
      "source": [
        "def sf(a):\n",
        "    return a%4==0 and a%8!=0\n",
        "m=filter(sf, range(10, 31))\n",
        "print(list(m))"
      ],
      "metadata": {
        "colab": {
          "base_uri": "https://localhost:8080/"
        },
        "id": "AGEqIXr15ttC",
        "outputId": "0f47de15-57a6-43a8-b0f4-8d2ddb139bb9"
      },
      "execution_count": null,
      "outputs": [
        {
          "output_type": "stream",
          "name": "stdout",
          "text": [
            "[12, 20, 28]\n"
          ]
        }
      ]
    },
    {
      "cell_type": "code",
      "source": [
        "import ast\n",
        "L=input()\n",
        "input_list=ast.literal_eval(L)\n",
        "even=filter(lambda x:x%2==0,input_list)\n",
        "print(list(even))"
      ],
      "metadata": {
        "colab": {
          "base_uri": "https://localhost:8080/"
        },
        "id": "jdBhrQFD6KNu",
        "outputId": "11524c4b-6553-49bf-8f3e-57a5ba70a370"
      },
      "execution_count": null,
      "outputs": [
        {
          "output_type": "stream",
          "name": "stdout",
          "text": [
            "[500, 789, 2112, 9097, 5894, 9062, 8977, 1223, 773, 600]\n",
            "[500, 2112, 5894, 9062, 600]\n"
          ]
        }
      ]
    },
    {
      "cell_type": "code",
      "source": [
        "import ast\n",
        "L=input()\n",
        "input_list=ast.literal_eval(L)\n",
        "triple=map(lambda x:x*3,input_list)\n",
        "print(list(triple))"
      ],
      "metadata": {
        "colab": {
          "base_uri": "https://localhost:8080/"
        },
        "id": "b7bb8DvHWJWM",
        "outputId": "9b516a2b-6bb0-40e7-efa1-984a874868c8"
      },
      "execution_count": null,
      "outputs": [
        {
          "output_type": "stream",
          "name": "stdout",
          "text": [
            "[15, 71, 2, 9, 5, 6, 11, 3, 7, 6]\n",
            "[45, 213, 6, 27, 15, 18, 33, 9, 21, 18]\n"
          ]
        }
      ]
    },
    {
      "cell_type": "code",
      "source": [
        "import ast\n",
        "L=input()\n",
        "input_list=ast.literal_eval(L)\n",
        "encrypt1=map(lambda x:x.upper(),input_list)\n",
        "encrypt2=map(lambda x:x[::-1],list(encrypt1))\n",
        "print(list(encrypt2))"
      ],
      "metadata": {
        "colab": {
          "base_uri": "https://localhost:8080/"
        },
        "id": "qYknwRB2XJYw",
        "outputId": "4b661325-95ff-4b7c-c5a5-2f02ff72dc0d"
      },
      "execution_count": null,
      "outputs": [
        {
          "output_type": "stream",
          "name": "stdout",
          "text": [
            "['Abhay', 'Aravind', 'Desilva', 'Darpan']\n",
            "['YAHBA', 'DNIVARA', 'AVLISED', 'NAPRAD']\n"
          ]
        }
      ]
    },
    {
      "cell_type": "code",
      "source": [
        "import ast\n",
        "L=input()\n",
        "input_list=ast.literal_eval(L)\n",
        "sorted_list=sorted(input_list,key=lambda i:(i['rank'],i['name']))\n",
        "print(sorted_list)"
      ],
      "metadata": {
        "colab": {
          "base_uri": "https://localhost:8080/"
        },
        "id": "INrs1JSoT6zI",
        "outputId": "1523a7f0-baf6-425b-8d13-711f7113fa09"
      },
      "execution_count": null,
      "outputs": [
        {
          "output_type": "stream",
          "name": "stdout",
          "text": [
            "[{ \"name\" : \"Mohan\", \"rank\" : 2}, { \"name\" : \"Mandeep\", \"rank\" : 2 },  { \"name\" : \"Merut\" , \"rank\" : 2 }]\n",
            "[{'name': 'Mandeep', 'rank': 2}, {'name': 'Merut', 'rank': 2}, {'name': 'Mohan', 'rank': 2}]\n"
          ]
        }
      ]
    },
    {
      "cell_type": "code",
      "source": [
        "import ast\n",
        "L1=input()\n",
        "L2=input()\n",
        "L3=input()\n",
        "input_list1=ast.literal_eval(L1)\n",
        "input_list2=ast.literal_eval(L2)\n",
        "input_list3=ast.literal_eval(L3)\n",
        "newL1=[i.lower() for i in input_list1]\n",
        "newL2=[i.lower() for i in input_list2]\n",
        "newL3=[i.lower() for i in input_list3]\n",
        "intersect1=[i for i in newL1 if i in newL2]\n",
        "intersect2=[i for i in intersect1 if i in newL3]\n",
        "print(intersect2)"
      ],
      "metadata": {
        "colab": {
          "base_uri": "https://localhost:8080/"
        },
        "id": "z7w8GeSFnBpT",
        "outputId": "04360505-4567-4802-bf1a-47dbca49a560"
      },
      "execution_count": null,
      "outputs": [
        {
          "output_type": "stream",
          "name": "stdout",
          "text": [
            "['Siddharth', 'Gaurav', 'Prasad', 'Kuldeep', 'karna']\n",
            "['siddharth', 'Gaurav', 'Prasad', 'Kuldeep', 'karna']\n",
            "['Siddharth', 'gaurav', 'PRASAD', 'KuLDEEp', 'KARNA']\n",
            "['siddharth', 'gaurav', 'prasad', 'kuldeep', 'karna']\n"
          ]
        }
      ]
    },
    {
      "cell_type": "code",
      "source": [
        "import ast\n",
        "L=input()\n",
        "input_list=ast.literal_eval(L)\n",
        "output=sorted(input_list,key=lambda x:len(x),reverse=True)\n",
        "print(output)"
      ],
      "metadata": {
        "colab": {
          "base_uri": "https://localhost:8080/"
        },
        "id": "6dnZh8jHn02M",
        "outputId": "a55f8cb4-38f9-4f54-a79c-24810ea6293d"
      },
      "execution_count": null,
      "outputs": [
        {
          "output_type": "stream",
          "name": "stdout",
          "text": [
            "[{4: 'Viking', 9: 'Happy', 10: 'Tony', 2: 'Rogers'}, {12: 'Vikram', 19: 'Vipan'}, {3: 'Kohli'}, {1: 'Ronaldo', 29: 'Harish'}]\n",
            "[{4: 'Viking', 9: 'Happy', 10: 'Tony', 2: 'Rogers'}, {12: 'Vikram', 19: 'Vipan'}, {1: 'Ronaldo', 29: 'Harish'}, {3: 'Kohli'}]\n"
          ]
        }
      ]
    },
    {
      "cell_type": "code",
      "source": [
        "try:\n",
        "    a=int(input(\"Please Enter an integer for A\"))\n",
        "    b=int(input(\"Please Enter an integer for B\"))\n",
        "except:\n",
        "    print(\"Please input the valid integers\")\n",
        "    try:\n",
        "        a=int(input(\"Please Enter an integer for A\"))\n",
        "        b=int(input(\"Please Enter an integer for B\"))\n",
        "    except:\n",
        "        print(\"Handle it\")\n",
        "    finally:\n",
        "        c=(a+b)/(a-b)\n",
        "        print(c)\n",
        "finally:\n",
        "    print(\"Now I am executed \")\n",
        "    "
      ],
      "metadata": {
        "id": "ymo-AfhjasvV",
        "colab": {
          "base_uri": "https://localhost:8080/"
        },
        "outputId": "8bd67348-79fe-4f4e-dfdd-02a80190bdfd"
      },
      "execution_count": null,
      "outputs": [
        {
          "output_type": "stream",
          "name": "stdout",
          "text": [
            "Please Enter an integer for At\n",
            "Please input the valid integers\n",
            "Please Enter an integer for A20\n",
            "Please Enter an integer for B10\n",
            "3.0\n",
            "Now I am executed \n"
          ]
        }
      ]
    },
    {
      "cell_type": "code",
      "source": [
        "def Temp(num):\n",
        "  print(\"Temp is:\",(num*9/5)+32)\n",
        " \n",
        "Temp(32)"
      ],
      "metadata": {
        "colab": {
          "base_uri": "https://localhost:8080/"
        },
        "id": "3nXaYbGq43rN",
        "outputId": "c8b9419e-c9f7-47db-c9b1-d6cfae8cc900"
      },
      "execution_count": null,
      "outputs": [
        {
          "output_type": "stream",
          "name": "stdout",
          "text": [
            "Temp is: 89.6\n"
          ]
        }
      ]
    },
    {
      "cell_type": "code",
      "source": [
        "def check(num):\n",
        "  if num%2==0:\n",
        "    print(\"even\")\n",
        "  else:\n",
        "    print(\"odd\")\n",
        "check(10)"
      ],
      "metadata": {
        "colab": {
          "base_uri": "https://localhost:8080/"
        },
        "id": "msmx95jXIKBq",
        "outputId": "49bac6f9-9ba3-4f90-e8cf-c3211d7eb820"
      },
      "execution_count": null,
      "outputs": [
        {
          "output_type": "stream",
          "name": "stdout",
          "text": [
            "even\n"
          ]
        }
      ]
    },
    {
      "cell_type": "code",
      "source": [
        "num=int(input())\n",
        "count=0\n",
        "for i in range(1,num+1):\n",
        "  if num%i==0:\n",
        "    count=count+1\n",
        "if count>2:\n",
        "  print(\"Not prime\")\n",
        "else:\n",
        "  print(\"Prime\")\n"
      ],
      "metadata": {
        "colab": {
          "base_uri": "https://localhost:8080/"
        },
        "id": "dHonXBvgOna8",
        "outputId": "62d3851b-fc1d-4c5b-c9b2-e318e4e6786c"
      },
      "execution_count": null,
      "outputs": [
        {
          "output_type": "stream",
          "name": "stdout",
          "text": [
            "13\n",
            "Prime\n"
          ]
        }
      ]
    },
    {
      "cell_type": "code",
      "source": [
        "import ast \n",
        "input_list=ast.literal_eval(input())\n",
        "m=int(input())\n",
        "n=int(input())\n",
        "import numpy as np\n",
        "array_1 = np.array(input_list)\n",
        "final_array = array_1[array_1>m]\n",
        "final_array1=final_array[final_array<n]\n",
        "print(final_array1)"
      ],
      "metadata": {
        "id": "xbPg56TEQeT2",
        "colab": {
          "base_uri": "https://localhost:8080/"
        },
        "outputId": "a3b58fb3-57fb-4097-8cf0-3d7cd652d799"
      },
      "execution_count": null,
      "outputs": [
        {
          "output_type": "stream",
          "name": "stdout",
          "text": [
            "[ 1, 5, 9, 12, 15, 7, 12, 9 ]\n",
            "12\n",
            "6\n",
            "[]\n"
          ]
        }
      ]
    },
    {
      "cell_type": "code",
      "source": [
        "import numpy as np\n",
        "L=[[1,2,3],[4,5,6],[7,8,9]]\n",
        "newL=np.array(L)\n",
        "final_L=newL[:,0]\n",
        "final_L"
      ],
      "metadata": {
        "id": "CSkVBcAzpkC2",
        "colab": {
          "base_uri": "https://localhost:8080/"
        },
        "outputId": "8909e250-a6e8-48b6-fb8c-03d87cab97aa"
      },
      "execution_count": null,
      "outputs": [
        {
          "output_type": "execute_result",
          "data": {
            "text/plain": [
              "array([1, 4, 7])"
            ]
          },
          "metadata": {},
          "execution_count": 1
        }
      ]
    },
    {
      "cell_type": "code",
      "source": [
        "import numpy as np\n",
        "output=np.arange(5,55,5)\n",
        "print(output)\n"
      ],
      "metadata": {
        "colab": {
          "base_uri": "https://localhost:8080/"
        },
        "id": "6pAJK9Ytt0a7",
        "outputId": "69589e03-57e9-44e1-b02d-abbaef431848"
      },
      "execution_count": null,
      "outputs": [
        {
          "output_type": "stream",
          "name": "stdout",
          "text": [
            "[ 5 10 15 20 25 30 35 40 45 50]\n"
          ]
        }
      ]
    },
    {
      "cell_type": "code",
      "source": [
        "import numpy as np\n",
        "list_1=[[7, 13, 14],\n",
        "\n",
        "[18, 10, 17],\n",
        "\n",
        "[11, 12, 19]]\n",
        "list_2=[16, 6, 1]\n",
        "list_3=[[5, 8, 4, 3]]\n",
        "array1=np.array(list_1)\n",
        "array2=np.array(list_2)\n",
        "array3=np.array(list_3)\n",
        "array4=np.vstack((array1,array2))\n",
        "array5 = np.transpose(array3)\n",
        "final_array=np.hstack((array4,array5))\n",
        "print(final_array)"
      ],
      "metadata": {
        "id": "PaTrVBn_vtlD",
        "colab": {
          "base_uri": "https://localhost:8080/"
        },
        "outputId": "b8b6758e-ed4b-4873-b095-83e620815523"
      },
      "execution_count": null,
      "outputs": [
        {
          "output_type": "stream",
          "name": "stdout",
          "text": [
            "[[ 7 13 14  5]\n",
            " [18 10 17  8]\n",
            " [11 12 19  4]\n",
            " [16  6  1  3]]\n"
          ]
        }
      ]
    },
    {
      "cell_type": "code",
      "source": [
        "a=np.array([1,2,3])\n",
        "b=np.array([2,3,4])\n",
        "np.transpose((a,b))"
      ],
      "metadata": {
        "colab": {
          "base_uri": "https://localhost:8080/"
        },
        "id": "gHornzZpel4O",
        "outputId": "39104e08-b07b-4037-c5ba-8467efe9cb4d"
      },
      "execution_count": null,
      "outputs": [
        {
          "output_type": "execute_result",
          "data": {
            "text/plain": [
              "array([[1, 2],\n",
              "       [2, 3],\n",
              "       [3, 4]])"
            ]
          },
          "metadata": {},
          "execution_count": 8
        }
      ]
    },
    {
      "cell_type": "code",
      "source": [
        "dict2={\"Name\":{\"Rohan\":{\"Roll_no\":18,\"Blood_grp\":'O','Admission_no':14313},'Krishna':\n",
        "              {\"Roll_no\":20,\"Blood_grp\":'A','Admission_no':1431}},'Classes':[7,9]}\n",
        "dict2['Name']['Rohan']['Marks']=[66,77,43,65,32,54]\n",
        "dict2['Name']['Krishna']['Marks']=[76,43,21,43,12]\n",
        "avg1=sum(dict2['Name']['Rohan']['Marks'])/len(dict2['Name']['Rohan']['Marks'])\n",
        "avg2=sum(dict2['Name']['Krishna']['Marks'])/len(dict2['Name']['Krishna']['Marks'])\n",
        "d=avg1-avg2\n",
        "print(int(d))"
      ],
      "metadata": {
        "id": "t45ogbsVgn6P",
        "colab": {
          "base_uri": "https://localhost:8080/"
        },
        "outputId": "657c2c41-adae-4e56-8bd8-925d5fcf438b"
      },
      "execution_count": null,
      "outputs": [
        {
          "output_type": "stream",
          "name": "stdout",
          "text": [
            "17\n"
          ]
        }
      ]
    },
    {
      "cell_type": "code",
      "source": [
        "import ast\n",
        "L=input()\n",
        "L1=ast.literal_eval(L)\n",
        "Lnew=[]\n",
        "for i in L1:\n",
        "  if (i%4==0) or (i%9==0):\n",
        "    Lnew.append(i)\n",
        "print(Lnew)\n"
      ],
      "metadata": {
        "colab": {
          "base_uri": "https://localhost:8080/"
        },
        "id": "t1N_EuURwmF3",
        "outputId": "52a0b5bb-b20d-4b73-e3eb-2f58a33628e7"
      },
      "execution_count": null,
      "outputs": [
        {
          "output_type": "stream",
          "name": "stdout",
          "text": [
            "[3,8,12,15,18,9,4,27,36,40]\n",
            "[8, 12, 18, 9, 4, 27, 36, 40]\n"
          ]
        }
      ]
    },
    {
      "cell_type": "code",
      "source": [
        "n=int(input())#find the sum of primes from 2 to n \n",
        "sum=0\n",
        "for num in range(2,n+1):\n",
        "  i=0\n",
        "  for i in range(2,num):\n",
        "    if num%i==0:\n",
        "            i=num\n",
        "            break;\n",
        "  if i is not num:\n",
        "      sum=sum+num\n",
        "print(sum)"
      ],
      "metadata": {
        "id": "xlxT777Zejul",
        "colab": {
          "base_uri": "https://localhost:8080/"
        },
        "outputId": "1f28a6a3-fe09-4ec0-c08f-29eea74f0106"
      },
      "execution_count": null,
      "outputs": [
        {
          "output_type": "stream",
          "name": "stdout",
          "text": [
            "10\n",
            "17\n"
          ]
        }
      ]
    },
    {
      "cell_type": "code",
      "source": [
        "len(range(2,3))"
      ],
      "metadata": {
        "colab": {
          "base_uri": "https://localhost:8080/"
        },
        "id": "b7qNGdMLHkRE",
        "outputId": "284e4c7a-a6a2-4326-8c9b-1431b18247f0"
      },
      "execution_count": null,
      "outputs": [
        {
          "output_type": "execute_result",
          "data": {
            "text/plain": [
              "1"
            ]
          },
          "metadata": {},
          "execution_count": 17
        }
      ]
    },
    {
      "cell_type": "code",
      "source": [
        "str1=input()\n",
        "str2=input()\n",
        "L1=list(str1)\n",
        "L2=list(str2)\n",
        "result=all([char in L2 for char in L1])\n",
        "print(result)"
      ],
      "metadata": {
        "colab": {
          "base_uri": "https://localhost:8080/"
        },
        "id": "YJShR6yfLjjx",
        "outputId": "d5937668-4e6d-41f5-c81d-5804eb4437ce"
      },
      "execution_count": null,
      "outputs": [
        {
          "output_type": "stream",
          "name": "stdout",
          "text": [
            "h3llow\n",
            "hello\n",
            "False\n"
          ]
        }
      ]
    },
    {
      "cell_type": "code",
      "source": [
        "str1=input()\n",
        "str2=input()\n",
        "L1=list(str1)\n",
        "L2=list(str2)\n",
        "L3=[]\n",
        "for i in L2:\n",
        "  j=(i in L1)\n",
        "  L3.append(j)\n",
        "if False in L3:\n",
        "  print('False')\n",
        "else:\n",
        "  print('True')\n"
      ],
      "metadata": {
        "colab": {
          "base_uri": "https://localhost:8080/"
        },
        "id": "Icy8FK2GT7xs",
        "outputId": "69814696-9dea-43a1-90a3-5f130ef9f54f"
      },
      "execution_count": null,
      "outputs": [
        {
          "output_type": "stream",
          "name": "stdout",
          "text": [
            "h3llow\n",
            "hello\n",
            "False\n"
          ]
        }
      ]
    },
    {
      "cell_type": "code",
      "source": [
        "import ast\n",
        "L1=ast.literal_eval(input())\n",
        "L2=ast.literal_eval(input())\n",
        "s3=\" \".join(L1)\n",
        "s4=\" \".join(L2)\n",
        "L3=s3.split(\" \")\n",
        "L4=s4.split(\" \")\n",
        "L5=[]\n",
        "L6=[]\n",
        "L=[]\n",
        "for i in L3:\n",
        "  L5.append(i.lower())\n",
        "for j in L4:\n",
        "  L6.append(j.lower())\n",
        "for i in L5:\n",
        "  j=(i in L6)\n",
        "  L.append(j)\n",
        "if False in L:\n",
        "  print(\"False\")\n",
        "else:\n",
        "  print(\"True\")\n",
        "\n",
        "\n",
        "  "
      ],
      "metadata": {
        "colab": {
          "base_uri": "https://localhost:8080/"
        },
        "id": "VpvnSkkRYymt",
        "outputId": "ffe6ae40-29dc-4a57-c813-5871722a5ba4"
      },
      "execution_count": null,
      "outputs": [
        {
          "output_type": "stream",
          "name": "stdout",
          "text": [
            "[\"I\", \"love\", \"programming\"]\n",
            "[\"Programming\", \"I love\"]\n",
            "True\n"
          ]
        }
      ]
    },
    {
      "cell_type": "code",
      "source": [
        "#largest common substring\n",
        "\n",
        "import ast\n",
        "#taking the input.\n",
        "input_str = input()\n",
        "test_str = ast.literal_eval(input_str)\n",
        "\n",
        "def check(test_str):\n",
        "    max_count = 0\n",
        "    def myfunc(a):\n",
        "      return len(a)\n",
        "    test_str.sort(key=myfunc)\n",
        "    \n",
        "    for i in range(len(test_str)-1):\n",
        "      j=i+1\n",
        "      \n",
        "      while j<len(test_str):\n",
        "        #get the starting index of substring in larger substring\n",
        "        index = test_str[j].find(test_str[i])\n",
        "\n",
        "        #find will return -1 if the smaller string is not part of the larger string\n",
        "        if len(test_str[i])>max_count and index!=-1:\n",
        "            max_count = len(test_str[i])\n",
        "            target_small = test_str[i]\n",
        "            target_large = test_str[j]\n",
        "        j=j+1\n",
        "\n",
        "    #print the output.               \n",
        "    print(target_large + \", \" + target_small)\n",
        "    print(target_small)\n",
        "\n",
        "#calling the function.\n",
        "check(test_str)\n"
      ],
      "metadata": {
        "colab": {
          "base_uri": "https://localhost:8080/"
        },
        "id": "jRC7UkO7xlfJ",
        "outputId": "29e965d2-8d6f-4f98-91c8-b27abbf228dc"
      },
      "execution_count": null,
      "outputs": [
        {
          "output_type": "stream",
          "name": "stdout",
          "text": [
            "['upGrad', 'substring', 'string', 'graduation', 'buttery', 'BUTTERY']\n",
            "substring, string\n",
            "string\n"
          ]
        }
      ]
    },
    {
      "cell_type": "code",
      "source": [],
      "metadata": {
        "id": "ZEnmFTaJ8-R-"
      },
      "execution_count": null,
      "outputs": []
    }
  ]
}